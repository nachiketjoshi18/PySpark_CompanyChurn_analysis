{
  "nbformat": 4,
  "nbformat_minor": 0,
  "metadata": {
    "colab": {
      "provenance": [],
      "gpuType": "T4"
    },
    "kernelspec": {
      "name": "python3",
      "display_name": "Python 3"
    },
    "language_info": {
      "name": "python"
    },
    "accelerator": "GPU"
  },
  "cells": [
    {
      "cell_type": "code",
      "execution_count": 1,
      "metadata": {
        "colab": {
          "base_uri": "https://localhost:8080/"
        },
        "id": "W-xOv8ER-JBc",
        "outputId": "ae267ac4-b7d5-4c4f-9491-ebc35b31b0da"
      },
      "outputs": [
        {
          "output_type": "stream",
          "name": "stdout",
          "text": [
            "Collecting pyspark\n",
            "  Downloading pyspark-3.5.0.tar.gz (316.9 MB)\n",
            "\u001b[2K     \u001b[90m━━━━━━━━━━━━━━━━━━━━━━━━━━━━━━━━━━━━━━━━\u001b[0m \u001b[32m316.9/316.9 MB\u001b[0m \u001b[31m4.4 MB/s\u001b[0m eta \u001b[36m0:00:00\u001b[0m\n",
            "\u001b[?25h  Preparing metadata (setup.py) ... \u001b[?25l\u001b[?25hdone\n",
            "Requirement already satisfied: py4j==0.10.9.7 in /usr/local/lib/python3.10/dist-packages (from pyspark) (0.10.9.7)\n",
            "Building wheels for collected packages: pyspark\n",
            "  Building wheel for pyspark (setup.py) ... \u001b[?25l\u001b[?25hdone\n",
            "  Created wheel for pyspark: filename=pyspark-3.5.0-py2.py3-none-any.whl size=317425345 sha256=564a9645c0c65fad210daa9b55d1a32e495ee8e02fa0dd370ae1e7d02d561b9f\n",
            "  Stored in directory: /root/.cache/pip/wheels/41/4e/10/c2cf2467f71c678cfc8a6b9ac9241e5e44a01940da8fbb17fc\n",
            "Successfully built pyspark\n",
            "Installing collected packages: pyspark\n",
            "Successfully installed pyspark-3.5.0\n"
          ]
        }
      ],
      "source": [
        "pip install pyspark\n"
      ]
    },
    {
      "cell_type": "code",
      "source": [
        "import pandas as pd\n",
        "import numpy as np\n",
        "import seaborn as sns\n",
        "from pyspark.sql import SparkSession\n",
        "from pyspark.ml.classification import GBTClassifier, LogisticRegression\n",
        "from pyspark.ml.evaluation import BinaryClassificationEvaluator\n",
        "from pyspark.ml.evaluation import MulticlassClassificationEvaluator\n",
        "from pyspark.ml.feature import StringIndexer, VectorAssembler, OneHotEncoder, StandardScaler\n",
        "from pyspark.ml.tuning import ParamGridBuilder, CrossValidator\n",
        "from pyspark.ml.feature import Bucketizer"
      ],
      "metadata": {
        "id": "apF2pPhX-h0z"
      },
      "execution_count": 2,
      "outputs": []
    },
    {
      "cell_type": "code",
      "source": [
        "spark = SparkSession.builder.master(\"local[1]\").appName(\"Py_analysis\").getOrCreate()"
      ],
      "metadata": {
        "id": "_PzogP84-uyj"
      },
      "execution_count": 3,
      "outputs": []
    },
    {
      "cell_type": "code",
      "source": [
        "spark"
      ],
      "metadata": {
        "colab": {
          "base_uri": "https://localhost:8080/",
          "height": 221
        },
        "id": "uz7IPBup_jW4",
        "outputId": "82f1b977-d25f-467a-bd4c-09bd47fbf94b"
      },
      "execution_count": 4,
      "outputs": [
        {
          "output_type": "execute_result",
          "data": {
            "text/plain": [
              "<pyspark.sql.session.SparkSession at 0x78f1ceddceb0>"
            ],
            "text/html": [
              "\n",
              "            <div>\n",
              "                <p><b>SparkSession - in-memory</b></p>\n",
              "                \n",
              "        <div>\n",
              "            <p><b>SparkContext</b></p>\n",
              "\n",
              "            <p><a href=\"http://b1aca3851e4d:4040\">Spark UI</a></p>\n",
              "\n",
              "            <dl>\n",
              "              <dt>Version</dt>\n",
              "                <dd><code>v3.5.0</code></dd>\n",
              "              <dt>Master</dt>\n",
              "                <dd><code>local[1]</code></dd>\n",
              "              <dt>AppName</dt>\n",
              "                <dd><code>Py_analysis</code></dd>\n",
              "            </dl>\n",
              "        </div>\n",
              "        \n",
              "            </div>\n",
              "        "
            ]
          },
          "metadata": {},
          "execution_count": 4
        }
      ]
    },
    {
      "cell_type": "code",
      "source": [
        "df = spark.read.csv(\"/content/Churn_Predictions.csv\" , header=True, inferSchema=True)"
      ],
      "metadata": {
        "id": "tWKy6U4t_l6T"
      },
      "execution_count": 5,
      "outputs": []
    },
    {
      "cell_type": "code",
      "source": [
        "df.dtypes"
      ],
      "metadata": {
        "colab": {
          "base_uri": "https://localhost:8080/"
        },
        "id": "B_uTlotf_ovE",
        "outputId": "5f70fe23-e787-4bf8-e58f-13c7292af277"
      },
      "execution_count": 6,
      "outputs": [
        {
          "output_type": "execute_result",
          "data": {
            "text/plain": [
              "[('RowNumber', 'int'),\n",
              " ('CustomerId', 'int'),\n",
              " ('Surname', 'string'),\n",
              " ('CreditScore', 'int'),\n",
              " ('Geography', 'string'),\n",
              " ('Gender', 'string'),\n",
              " ('Age', 'int'),\n",
              " ('Tenure', 'int'),\n",
              " ('Balance', 'double'),\n",
              " ('NumOfProducts', 'int'),\n",
              " ('HasCrCard', 'int'),\n",
              " ('IsActiveMember', 'int'),\n",
              " ('EstimatedSalary', 'double'),\n",
              " ('Exited', 'int')]"
            ]
          },
          "metadata": {},
          "execution_count": 6
        }
      ]
    },
    {
      "cell_type": "code",
      "source": [
        "df.count()"
      ],
      "metadata": {
        "colab": {
          "base_uri": "https://localhost:8080/"
        },
        "id": "6yT8ldoq_vIH",
        "outputId": "f0c9045a-051a-4963-eba3-3ca09511b9ff"
      },
      "execution_count": 7,
      "outputs": [
        {
          "output_type": "execute_result",
          "data": {
            "text/plain": [
              "10000"
            ]
          },
          "metadata": {},
          "execution_count": 7
        }
      ]
    },
    {
      "cell_type": "code",
      "source": [
        "df = df.toDF(*[c.lower() for c in df.columns])"
      ],
      "metadata": {
        "id": "bJwvspni_-JI"
      },
      "execution_count": 8,
      "outputs": []
    },
    {
      "cell_type": "code",
      "source": [
        "df.describe(['age' , 'exited']).show()"
      ],
      "metadata": {
        "colab": {
          "base_uri": "https://localhost:8080/"
        },
        "id": "M7nEUq5QABu3",
        "outputId": "fb5fe619-d5c1-4ef7-feb7-d7c250df251e"
      },
      "execution_count": 9,
      "outputs": [
        {
          "output_type": "stream",
          "name": "stdout",
          "text": [
            "+-------+------------------+-------------------+\n",
            "|summary|               age|             exited|\n",
            "+-------+------------------+-------------------+\n",
            "|  count|             10000|              10000|\n",
            "|   mean|           38.9218|             0.2037|\n",
            "| stddev|10.487806451704587|0.40276858399486065|\n",
            "|    min|                18|                  0|\n",
            "|    max|                92|                  1|\n",
            "+-------+------------------+-------------------+\n",
            "\n"
          ]
        }
      ]
    },
    {
      "cell_type": "code",
      "source": [
        "gp = df.groupby(\"exited\")"
      ],
      "metadata": {
        "id": "CLh86hNUAGHn"
      },
      "execution_count": 10,
      "outputs": []
    },
    {
      "cell_type": "code",
      "source": [
        "gp.count().show()"
      ],
      "metadata": {
        "id": "R4imNVgOAL25",
        "outputId": "a87b8105-4e09-4799-c46c-560bdd27460c",
        "colab": {
          "base_uri": "https://localhost:8080/"
        }
      },
      "execution_count": 11,
      "outputs": [
        {
          "output_type": "stream",
          "name": "stdout",
          "text": [
            "+------+-----+\n",
            "|exited|count|\n",
            "+------+-----+\n",
            "|     1| 2037|\n",
            "|     0| 7963|\n",
            "+------+-----+\n",
            "\n"
          ]
        }
      ]
    },
    {
      "cell_type": "code",
      "source": [
        "gp.agg({'age' : 'mean'}).show()"
      ],
      "metadata": {
        "id": "8dXUW5AhAOu4",
        "outputId": "92350513-f852-4fc4-80e8-3f0d1938209a",
        "colab": {
          "base_uri": "https://localhost:8080/"
        }
      },
      "execution_count": 12,
      "outputs": [
        {
          "output_type": "stream",
          "name": "stdout",
          "text": [
            "+------+-----------------+\n",
            "|exited|         avg(age)|\n",
            "+------+-----------------+\n",
            "|     1| 44.8379970544919|\n",
            "|     0|37.40838879819164|\n",
            "+------+-----------------+\n",
            "\n"
          ]
        }
      ]
    },
    {
      "cell_type": "code",
      "source": [
        "num_cols = [col[0] for col in df.dtypes if col[1] != 'string']\n",
        "df.select(num_cols).describe().show()\n",
        "df.select(num_cols).describe().toPandas().transpose()"
      ],
      "metadata": {
        "id": "CnUnHZ0bAQqM",
        "colab": {
          "base_uri": "https://localhost:8080/",
          "height": 625
        },
        "outputId": "9414fcfa-373c-4fd0-f971-dd1c7a2b31fa"
      },
      "execution_count": 13,
      "outputs": [
        {
          "output_type": "stream",
          "name": "stdout",
          "text": [
            "+-------+------------------+-----------------+-----------------+------------------+------------------+-----------------+------------------+-------------------+-------------------+-----------------+-------------------+\n",
            "|summary|         rownumber|       customerid|      creditscore|               age|            tenure|          balance|     numofproducts|          hascrcard|     isactivemember|  estimatedsalary|             exited|\n",
            "+-------+------------------+-----------------+-----------------+------------------+------------------+-----------------+------------------+-------------------+-------------------+-----------------+-------------------+\n",
            "|  count|             10000|            10000|            10000|             10000|             10000|            10000|             10000|              10000|              10000|            10000|              10000|\n",
            "|   mean|            5000.5|  1.56909405694E7|         650.5288|           38.9218|            5.0128|76485.88928799961|            1.5302|             0.7055|             0.5151|100090.2398809998|             0.2037|\n",
            "| stddev|2886.8956799071675|71936.18612274907|96.65329873613035|10.487806451704587|2.8921743770496837|62397.40520238599|0.5816543579989917|0.45584046447513327|0.49979692845891815|57510.49281769821|0.40276858399486065|\n",
            "|    min|                 1|         15565701|              350|                18|                 0|              0.0|                 1|                  0|                  0|            11.58|                  0|\n",
            "|    max|             10000|         15815690|              850|                92|                10|        250898.09|                 4|                  1|                  1|        199992.48|                  1|\n",
            "+-------+------------------+-----------------+-----------------+------------------+------------------+-----------------+------------------+-------------------+-------------------+-----------------+-------------------+\n",
            "\n"
          ]
        },
        {
          "output_type": "execute_result",
          "data": {
            "text/plain": [
              "                     0                  1                    2         3  \\\n",
              "summary          count               mean               stddev       min   \n",
              "rownumber        10000             5000.5   2886.8956799071675         1   \n",
              "customerid       10000    1.56909405694E7    71936.18612274907  15565701   \n",
              "creditscore      10000           650.5288    96.65329873613035       350   \n",
              "age              10000            38.9218   10.487806451704587        18   \n",
              "tenure           10000             5.0128   2.8921743770496837         0   \n",
              "balance          10000  76485.88928799961    62397.40520238599       0.0   \n",
              "numofproducts    10000             1.5302   0.5816543579989917         1   \n",
              "hascrcard        10000             0.7055  0.45584046447513327         0   \n",
              "isactivemember   10000             0.5151  0.49979692845891815         0   \n",
              "estimatedsalary  10000  100090.2398809998    57510.49281769821     11.58   \n",
              "exited           10000             0.2037  0.40276858399486065         0   \n",
              "\n",
              "                         4  \n",
              "summary                max  \n",
              "rownumber            10000  \n",
              "customerid        15815690  \n",
              "creditscore            850  \n",
              "age                     92  \n",
              "tenure                  10  \n",
              "balance          250898.09  \n",
              "numofproducts            4  \n",
              "hascrcard                1  \n",
              "isactivemember           1  \n",
              "estimatedsalary  199992.48  \n",
              "exited                   1  "
            ],
            "text/html": [
              "\n",
              "  <div id=\"df-cb712277-aeb0-4fbb-99de-3a5332ed247e\" class=\"colab-df-container\">\n",
              "    <div>\n",
              "<style scoped>\n",
              "    .dataframe tbody tr th:only-of-type {\n",
              "        vertical-align: middle;\n",
              "    }\n",
              "\n",
              "    .dataframe tbody tr th {\n",
              "        vertical-align: top;\n",
              "    }\n",
              "\n",
              "    .dataframe thead th {\n",
              "        text-align: right;\n",
              "    }\n",
              "</style>\n",
              "<table border=\"1\" class=\"dataframe\">\n",
              "  <thead>\n",
              "    <tr style=\"text-align: right;\">\n",
              "      <th></th>\n",
              "      <th>0</th>\n",
              "      <th>1</th>\n",
              "      <th>2</th>\n",
              "      <th>3</th>\n",
              "      <th>4</th>\n",
              "    </tr>\n",
              "  </thead>\n",
              "  <tbody>\n",
              "    <tr>\n",
              "      <th>summary</th>\n",
              "      <td>count</td>\n",
              "      <td>mean</td>\n",
              "      <td>stddev</td>\n",
              "      <td>min</td>\n",
              "      <td>max</td>\n",
              "    </tr>\n",
              "    <tr>\n",
              "      <th>rownumber</th>\n",
              "      <td>10000</td>\n",
              "      <td>5000.5</td>\n",
              "      <td>2886.8956799071675</td>\n",
              "      <td>1</td>\n",
              "      <td>10000</td>\n",
              "    </tr>\n",
              "    <tr>\n",
              "      <th>customerid</th>\n",
              "      <td>10000</td>\n",
              "      <td>1.56909405694E7</td>\n",
              "      <td>71936.18612274907</td>\n",
              "      <td>15565701</td>\n",
              "      <td>15815690</td>\n",
              "    </tr>\n",
              "    <tr>\n",
              "      <th>creditscore</th>\n",
              "      <td>10000</td>\n",
              "      <td>650.5288</td>\n",
              "      <td>96.65329873613035</td>\n",
              "      <td>350</td>\n",
              "      <td>850</td>\n",
              "    </tr>\n",
              "    <tr>\n",
              "      <th>age</th>\n",
              "      <td>10000</td>\n",
              "      <td>38.9218</td>\n",
              "      <td>10.487806451704587</td>\n",
              "      <td>18</td>\n",
              "      <td>92</td>\n",
              "    </tr>\n",
              "    <tr>\n",
              "      <th>tenure</th>\n",
              "      <td>10000</td>\n",
              "      <td>5.0128</td>\n",
              "      <td>2.8921743770496837</td>\n",
              "      <td>0</td>\n",
              "      <td>10</td>\n",
              "    </tr>\n",
              "    <tr>\n",
              "      <th>balance</th>\n",
              "      <td>10000</td>\n",
              "      <td>76485.88928799961</td>\n",
              "      <td>62397.40520238599</td>\n",
              "      <td>0.0</td>\n",
              "      <td>250898.09</td>\n",
              "    </tr>\n",
              "    <tr>\n",
              "      <th>numofproducts</th>\n",
              "      <td>10000</td>\n",
              "      <td>1.5302</td>\n",
              "      <td>0.5816543579989917</td>\n",
              "      <td>1</td>\n",
              "      <td>4</td>\n",
              "    </tr>\n",
              "    <tr>\n",
              "      <th>hascrcard</th>\n",
              "      <td>10000</td>\n",
              "      <td>0.7055</td>\n",
              "      <td>0.45584046447513327</td>\n",
              "      <td>0</td>\n",
              "      <td>1</td>\n",
              "    </tr>\n",
              "    <tr>\n",
              "      <th>isactivemember</th>\n",
              "      <td>10000</td>\n",
              "      <td>0.5151</td>\n",
              "      <td>0.49979692845891815</td>\n",
              "      <td>0</td>\n",
              "      <td>1</td>\n",
              "    </tr>\n",
              "    <tr>\n",
              "      <th>estimatedsalary</th>\n",
              "      <td>10000</td>\n",
              "      <td>100090.2398809998</td>\n",
              "      <td>57510.49281769821</td>\n",
              "      <td>11.58</td>\n",
              "      <td>199992.48</td>\n",
              "    </tr>\n",
              "    <tr>\n",
              "      <th>exited</th>\n",
              "      <td>10000</td>\n",
              "      <td>0.2037</td>\n",
              "      <td>0.40276858399486065</td>\n",
              "      <td>0</td>\n",
              "      <td>1</td>\n",
              "    </tr>\n",
              "  </tbody>\n",
              "</table>\n",
              "</div>\n",
              "    <div class=\"colab-df-buttons\">\n",
              "\n",
              "  <div class=\"colab-df-container\">\n",
              "    <button class=\"colab-df-convert\" onclick=\"convertToInteractive('df-cb712277-aeb0-4fbb-99de-3a5332ed247e')\"\n",
              "            title=\"Convert this dataframe to an interactive table.\"\n",
              "            style=\"display:none;\">\n",
              "\n",
              "  <svg xmlns=\"http://www.w3.org/2000/svg\" height=\"24px\" viewBox=\"0 -960 960 960\">\n",
              "    <path d=\"M120-120v-720h720v720H120Zm60-500h600v-160H180v160Zm220 220h160v-160H400v160Zm0 220h160v-160H400v160ZM180-400h160v-160H180v160Zm440 0h160v-160H620v160ZM180-180h160v-160H180v160Zm440 0h160v-160H620v160Z\"/>\n",
              "  </svg>\n",
              "    </button>\n",
              "\n",
              "  <style>\n",
              "    .colab-df-container {\n",
              "      display:flex;\n",
              "      gap: 12px;\n",
              "    }\n",
              "\n",
              "    .colab-df-convert {\n",
              "      background-color: #E8F0FE;\n",
              "      border: none;\n",
              "      border-radius: 50%;\n",
              "      cursor: pointer;\n",
              "      display: none;\n",
              "      fill: #1967D2;\n",
              "      height: 32px;\n",
              "      padding: 0 0 0 0;\n",
              "      width: 32px;\n",
              "    }\n",
              "\n",
              "    .colab-df-convert:hover {\n",
              "      background-color: #E2EBFA;\n",
              "      box-shadow: 0px 1px 2px rgba(60, 64, 67, 0.3), 0px 1px 3px 1px rgba(60, 64, 67, 0.15);\n",
              "      fill: #174EA6;\n",
              "    }\n",
              "\n",
              "    .colab-df-buttons div {\n",
              "      margin-bottom: 4px;\n",
              "    }\n",
              "\n",
              "    [theme=dark] .colab-df-convert {\n",
              "      background-color: #3B4455;\n",
              "      fill: #D2E3FC;\n",
              "    }\n",
              "\n",
              "    [theme=dark] .colab-df-convert:hover {\n",
              "      background-color: #434B5C;\n",
              "      box-shadow: 0px 1px 3px 1px rgba(0, 0, 0, 0.15);\n",
              "      filter: drop-shadow(0px 1px 2px rgba(0, 0, 0, 0.3));\n",
              "      fill: #FFFFFF;\n",
              "    }\n",
              "  </style>\n",
              "\n",
              "    <script>\n",
              "      const buttonEl =\n",
              "        document.querySelector('#df-cb712277-aeb0-4fbb-99de-3a5332ed247e button.colab-df-convert');\n",
              "      buttonEl.style.display =\n",
              "        google.colab.kernel.accessAllowed ? 'block' : 'none';\n",
              "\n",
              "      async function convertToInteractive(key) {\n",
              "        const element = document.querySelector('#df-cb712277-aeb0-4fbb-99de-3a5332ed247e');\n",
              "        const dataTable =\n",
              "          await google.colab.kernel.invokeFunction('convertToInteractive',\n",
              "                                                    [key], {});\n",
              "        if (!dataTable) return;\n",
              "\n",
              "        const docLinkHtml = 'Like what you see? Visit the ' +\n",
              "          '<a target=\"_blank\" href=https://colab.research.google.com/notebooks/data_table.ipynb>data table notebook</a>'\n",
              "          + ' to learn more about interactive tables.';\n",
              "        element.innerHTML = '';\n",
              "        dataTable['output_type'] = 'display_data';\n",
              "        await google.colab.output.renderOutput(dataTable, element);\n",
              "        const docLink = document.createElement('div');\n",
              "        docLink.innerHTML = docLinkHtml;\n",
              "        element.appendChild(docLink);\n",
              "      }\n",
              "    </script>\n",
              "  </div>\n",
              "\n",
              "\n",
              "<div id=\"df-83836b8b-051e-402b-bb87-749c26397af6\">\n",
              "  <button class=\"colab-df-quickchart\" onclick=\"quickchart('df-83836b8b-051e-402b-bb87-749c26397af6')\"\n",
              "            title=\"Suggest charts\"\n",
              "            style=\"display:none;\">\n",
              "\n",
              "<svg xmlns=\"http://www.w3.org/2000/svg\" height=\"24px\"viewBox=\"0 0 24 24\"\n",
              "     width=\"24px\">\n",
              "    <g>\n",
              "        <path d=\"M19 3H5c-1.1 0-2 .9-2 2v14c0 1.1.9 2 2 2h14c1.1 0 2-.9 2-2V5c0-1.1-.9-2-2-2zM9 17H7v-7h2v7zm4 0h-2V7h2v10zm4 0h-2v-4h2v4z\"/>\n",
              "    </g>\n",
              "</svg>\n",
              "  </button>\n",
              "\n",
              "<style>\n",
              "  .colab-df-quickchart {\n",
              "      --bg-color: #E8F0FE;\n",
              "      --fill-color: #1967D2;\n",
              "      --hover-bg-color: #E2EBFA;\n",
              "      --hover-fill-color: #174EA6;\n",
              "      --disabled-fill-color: #AAA;\n",
              "      --disabled-bg-color: #DDD;\n",
              "  }\n",
              "\n",
              "  [theme=dark] .colab-df-quickchart {\n",
              "      --bg-color: #3B4455;\n",
              "      --fill-color: #D2E3FC;\n",
              "      --hover-bg-color: #434B5C;\n",
              "      --hover-fill-color: #FFFFFF;\n",
              "      --disabled-bg-color: #3B4455;\n",
              "      --disabled-fill-color: #666;\n",
              "  }\n",
              "\n",
              "  .colab-df-quickchart {\n",
              "    background-color: var(--bg-color);\n",
              "    border: none;\n",
              "    border-radius: 50%;\n",
              "    cursor: pointer;\n",
              "    display: none;\n",
              "    fill: var(--fill-color);\n",
              "    height: 32px;\n",
              "    padding: 0;\n",
              "    width: 32px;\n",
              "  }\n",
              "\n",
              "  .colab-df-quickchart:hover {\n",
              "    background-color: var(--hover-bg-color);\n",
              "    box-shadow: 0 1px 2px rgba(60, 64, 67, 0.3), 0 1px 3px 1px rgba(60, 64, 67, 0.15);\n",
              "    fill: var(--button-hover-fill-color);\n",
              "  }\n",
              "\n",
              "  .colab-df-quickchart-complete:disabled,\n",
              "  .colab-df-quickchart-complete:disabled:hover {\n",
              "    background-color: var(--disabled-bg-color);\n",
              "    fill: var(--disabled-fill-color);\n",
              "    box-shadow: none;\n",
              "  }\n",
              "\n",
              "  .colab-df-spinner {\n",
              "    border: 2px solid var(--fill-color);\n",
              "    border-color: transparent;\n",
              "    border-bottom-color: var(--fill-color);\n",
              "    animation:\n",
              "      spin 1s steps(1) infinite;\n",
              "  }\n",
              "\n",
              "  @keyframes spin {\n",
              "    0% {\n",
              "      border-color: transparent;\n",
              "      border-bottom-color: var(--fill-color);\n",
              "      border-left-color: var(--fill-color);\n",
              "    }\n",
              "    20% {\n",
              "      border-color: transparent;\n",
              "      border-left-color: var(--fill-color);\n",
              "      border-top-color: var(--fill-color);\n",
              "    }\n",
              "    30% {\n",
              "      border-color: transparent;\n",
              "      border-left-color: var(--fill-color);\n",
              "      border-top-color: var(--fill-color);\n",
              "      border-right-color: var(--fill-color);\n",
              "    }\n",
              "    40% {\n",
              "      border-color: transparent;\n",
              "      border-right-color: var(--fill-color);\n",
              "      border-top-color: var(--fill-color);\n",
              "    }\n",
              "    60% {\n",
              "      border-color: transparent;\n",
              "      border-right-color: var(--fill-color);\n",
              "    }\n",
              "    80% {\n",
              "      border-color: transparent;\n",
              "      border-right-color: var(--fill-color);\n",
              "      border-bottom-color: var(--fill-color);\n",
              "    }\n",
              "    90% {\n",
              "      border-color: transparent;\n",
              "      border-bottom-color: var(--fill-color);\n",
              "    }\n",
              "  }\n",
              "</style>\n",
              "\n",
              "  <script>\n",
              "    async function quickchart(key) {\n",
              "      const quickchartButtonEl =\n",
              "        document.querySelector('#' + key + ' button');\n",
              "      quickchartButtonEl.disabled = true;  // To prevent multiple clicks.\n",
              "      quickchartButtonEl.classList.add('colab-df-spinner');\n",
              "      try {\n",
              "        const charts = await google.colab.kernel.invokeFunction(\n",
              "            'suggestCharts', [key], {});\n",
              "      } catch (error) {\n",
              "        console.error('Error during call to suggestCharts:', error);\n",
              "      }\n",
              "      quickchartButtonEl.classList.remove('colab-df-spinner');\n",
              "      quickchartButtonEl.classList.add('colab-df-quickchart-complete');\n",
              "    }\n",
              "    (() => {\n",
              "      let quickchartButtonEl =\n",
              "        document.querySelector('#df-83836b8b-051e-402b-bb87-749c26397af6 button');\n",
              "      quickchartButtonEl.style.display =\n",
              "        google.colab.kernel.accessAllowed ? 'block' : 'none';\n",
              "    })();\n",
              "  </script>\n",
              "</div>\n",
              "\n",
              "    </div>\n",
              "  </div>\n"
            ]
          },
          "metadata": {},
          "execution_count": 13
        }
      ]
    },
    {
      "cell_type": "code",
      "source": [
        "cat_cols = [col[0] for col in df.dtypes if col[1] == 'string']\n",
        "\n",
        "for col in cat_cols:\n",
        "    df.select(col).distinct().show()"
      ],
      "metadata": {
        "colab": {
          "base_uri": "https://localhost:8080/"
        },
        "id": "0wXDTmm9PduF",
        "outputId": "d24ffd22-372b-42dd-e1c0-9e26192530f8"
      },
      "execution_count": 14,
      "outputs": [
        {
          "output_type": "stream",
          "name": "stdout",
          "text": [
            "+------------+\n",
            "|     surname|\n",
            "+------------+\n",
            "|       Tyler|\n",
            "|     Palermo|\n",
            "|      Piccio|\n",
            "|    Lazareva|\n",
            "|  Kambinachi|\n",
            "|       Virgo|\n",
            "| Baryshnikov|\n",
            "|     Wofford|\n",
            "|      Lavrov|\n",
            "|   Bezrukova|\n",
            "|      Avdeev|\n",
            "|      Clunie|\n",
            "|      Duigan|\n",
            "|    Sokolova|\n",
            "|      Azarov|\n",
            "|    Rawlings|\n",
            "|         Zox|\n",
            "|       Rubeo|\n",
            "|      Arbour|\n",
            "|Rapuluchukwu|\n",
            "+------------+\n",
            "only showing top 20 rows\n",
            "\n",
            "+---------+\n",
            "|geography|\n",
            "+---------+\n",
            "|  Germany|\n",
            "|   France|\n",
            "|    Spain|\n",
            "+---------+\n",
            "\n",
            "+------+\n",
            "|gender|\n",
            "+------+\n",
            "|Female|\n",
            "|  Male|\n",
            "+------+\n",
            "\n"
          ]
        }
      ]
    },
    {
      "cell_type": "code",
      "source": [
        "for col in num_cols:\n",
        "  df.groupby('exited').agg({col : 'mean'}).show()"
      ],
      "metadata": {
        "colab": {
          "base_uri": "https://localhost:8080/"
        },
        "id": "w6mcTGrUPhp_",
        "outputId": "941b45d3-2980-49f2-dedb-4a7a13ab11fc"
      },
      "execution_count": 15,
      "outputs": [
        {
          "output_type": "stream",
          "name": "stdout",
          "text": [
            "+------+-----------------+\n",
            "|exited|   avg(rownumber)|\n",
            "+------+-----------------+\n",
            "|     1|4905.917525773196|\n",
            "|     0|5024.694964209469|\n",
            "+------+-----------------+\n",
            "\n",
            "+------+--------------------+\n",
            "|exited|     avg(customerid)|\n",
            "+------+--------------------+\n",
            "|     1|1.5690051964653904E7|\n",
            "|     0|1.5691167881702876E7|\n",
            "+------+--------------------+\n",
            "\n",
            "+------+-----------------+\n",
            "|exited| avg(creditscore)|\n",
            "+------+-----------------+\n",
            "|     1|645.3514972999509|\n",
            "|     0|651.8531960316463|\n",
            "+------+-----------------+\n",
            "\n",
            "+------+-----------------+\n",
            "|exited|         avg(age)|\n",
            "+------+-----------------+\n",
            "|     1| 44.8379970544919|\n",
            "|     0|37.40838879819164|\n",
            "+------+-----------------+\n",
            "\n",
            "+------+-----------------+\n",
            "|exited|      avg(tenure)|\n",
            "+------+-----------------+\n",
            "|     1|4.932744231713304|\n",
            "|     0|5.033278914981791|\n",
            "+------+-----------------+\n",
            "\n",
            "+------+-----------------+\n",
            "|exited|     avg(balance)|\n",
            "+------+-----------------+\n",
            "|     1|91108.53933726063|\n",
            "|     0|72745.29677885193|\n",
            "+------+-----------------+\n",
            "\n",
            "+------+------------------+\n",
            "|exited|avg(numofproducts)|\n",
            "+------+------------------+\n",
            "|     1|1.4752086401570939|\n",
            "|     0|1.5442672359663443|\n",
            "+------+------------------+\n",
            "\n",
            "+------+------------------+\n",
            "|exited|    avg(hascrcard)|\n",
            "+------+------------------+\n",
            "|     1|0.6990672557682867|\n",
            "|     0|0.7071455481602411|\n",
            "+------+------------------+\n",
            "\n",
            "+------+-------------------+\n",
            "|exited|avg(isactivemember)|\n",
            "+------+-------------------+\n",
            "|     1|0.36082474226804123|\n",
            "|     0| 0.5545648624890117|\n",
            "+------+-------------------+\n",
            "\n",
            "+------+--------------------+\n",
            "|exited|avg(estimatedsalary)|\n",
            "+------+--------------------+\n",
            "|     1|   101465.6775306824|\n",
            "|     0|   99738.39177194514|\n",
            "+------+--------------------+\n",
            "\n",
            "+------+-----------+\n",
            "|exited|avg(exited)|\n",
            "+------+-----------+\n",
            "|     1|        1.0|\n",
            "|     0|        0.0|\n",
            "+------+-----------+\n",
            "\n"
          ]
        }
      ]
    },
    {
      "cell_type": "code",
      "source": [
        "df.createOrReplaceTempView('sql_df')"
      ],
      "metadata": {
        "id": "KLKivtoiP46q"
      },
      "execution_count": 16,
      "outputs": []
    },
    {
      "cell_type": "code",
      "source": [
        "spark.sql('show databases').show()"
      ],
      "metadata": {
        "colab": {
          "base_uri": "https://localhost:8080/"
        },
        "id": "0XQjOdoRQIEV",
        "outputId": "be450e86-1249-4932-a870-158cb3647e77"
      },
      "execution_count": 17,
      "outputs": [
        {
          "output_type": "stream",
          "name": "stdout",
          "text": [
            "+---------+\n",
            "|namespace|\n",
            "+---------+\n",
            "|  default|\n",
            "+---------+\n",
            "\n"
          ]
        }
      ]
    },
    {
      "cell_type": "code",
      "source": [
        "spark.sql(\"show tables\").show()"
      ],
      "metadata": {
        "colab": {
          "base_uri": "https://localhost:8080/"
        },
        "id": "qjDUv2Q0QJ70",
        "outputId": "aa27cc37-931e-4dd8-9b3d-b46e174bd318"
      },
      "execution_count": 18,
      "outputs": [
        {
          "output_type": "stream",
          "name": "stdout",
          "text": [
            "+---------+---------+-----------+\n",
            "|namespace|tableName|isTemporary|\n",
            "+---------+---------+-----------+\n",
            "|         |   sql_df|       true|\n",
            "+---------+---------+-----------+\n",
            "\n"
          ]
        }
      ]
    },
    {
      "cell_type": "code",
      "source": [
        "spark.sql(\"select age from sql_df limit 5\").show()"
      ],
      "metadata": {
        "colab": {
          "base_uri": "https://localhost:8080/"
        },
        "id": "P1PHQUOXQLgN",
        "outputId": "ad8151fc-2b3a-4f05-8b1e-f0ac3d79f7b5"
      },
      "execution_count": 19,
      "outputs": [
        {
          "output_type": "stream",
          "name": "stdout",
          "text": [
            "+---+\n",
            "|age|\n",
            "+---+\n",
            "| 42|\n",
            "| 41|\n",
            "| 42|\n",
            "| 39|\n",
            "| 43|\n",
            "+---+\n",
            "\n"
          ]
        }
      ]
    },
    {
      "cell_type": "code",
      "source": [
        "spark.sql(\"select exited, avg(age) from sql_df group by exited\").show()"
      ],
      "metadata": {
        "colab": {
          "base_uri": "https://localhost:8080/"
        },
        "id": "mUqTmnd5QNo-",
        "outputId": "a9bcbbad-65bc-45dc-95a7-b645df02a05d"
      },
      "execution_count": 20,
      "outputs": [
        {
          "output_type": "stream",
          "name": "stdout",
          "text": [
            "+------+-----------------+\n",
            "|exited|         avg(age)|\n",
            "+------+-----------------+\n",
            "|     1| 44.8379970544919|\n",
            "|     0|37.40838879819164|\n",
            "+------+-----------------+\n",
            "\n"
          ]
        }
      ]
    },
    {
      "cell_type": "code",
      "source": [
        "from pyspark.sql.functions import when, count, col"
      ],
      "metadata": {
        "id": "xD8GrzTbQPzA"
      },
      "execution_count": 21,
      "outputs": []
    },
    {
      "cell_type": "code",
      "source": [
        "df.show()"
      ],
      "metadata": {
        "colab": {
          "base_uri": "https://localhost:8080/"
        },
        "id": "_lbUdGDjQSEx",
        "outputId": "448e1333-cdef-4997-fc72-8fc52e9bc319"
      },
      "execution_count": 22,
      "outputs": [
        {
          "output_type": "stream",
          "name": "stdout",
          "text": [
            "+---------+----------+---------+-----------+---------+------+---+------+---------+-------------+---------+--------------+---------------+------+\n",
            "|rownumber|customerid|  surname|creditscore|geography|gender|age|tenure|  balance|numofproducts|hascrcard|isactivemember|estimatedsalary|exited|\n",
            "+---------+----------+---------+-----------+---------+------+---+------+---------+-------------+---------+--------------+---------------+------+\n",
            "|        1|  15634602| Hargrave|        619|   France|Female| 42|     2|      0.0|            1|        1|             1|      101348.88|     1|\n",
            "|        2|  15647311|     Hill|        608|    Spain|Female| 41|     1| 83807.86|            1|        0|             1|      112542.58|     0|\n",
            "|        3|  15619304|     Onio|        502|   France|Female| 42|     8| 159660.8|            3|        1|             0|      113931.57|     1|\n",
            "|        4|  15701354|     Boni|        699|   France|Female| 39|     1|      0.0|            2|        0|             0|       93826.63|     0|\n",
            "|        5|  15737888| Mitchell|        850|    Spain|Female| 43|     2|125510.82|            1|        1|             1|        79084.1|     0|\n",
            "|        6|  15574012|      Chu|        645|    Spain|  Male| 44|     8|113755.78|            2|        1|             0|      149756.71|     1|\n",
            "|        7|  15592531| Bartlett|        822|   France|  Male| 50|     7|      0.0|            2|        1|             1|        10062.8|     0|\n",
            "|        8|  15656148|   Obinna|        376|  Germany|Female| 29|     4|115046.74|            4|        1|             0|      119346.88|     1|\n",
            "|        9|  15792365|       He|        501|   France|  Male| 44|     4|142051.07|            2|        0|             1|        74940.5|     0|\n",
            "|       10|  15592389|       H?|        684|   France|  Male| 27|     2|134603.88|            1|        1|             1|       71725.73|     0|\n",
            "|       11|  15767821|   Bearce|        528|   France|  Male| 31|     6|102016.72|            2|        0|             0|       80181.12|     0|\n",
            "|       12|  15737173|  Andrews|        497|    Spain|  Male| 24|     3|      0.0|            2|        1|             0|       76390.01|     0|\n",
            "|       13|  15632264|      Kay|        476|   France|Female| 34|    10|      0.0|            2|        1|             0|       26260.98|     0|\n",
            "|       14|  15691483|     Chin|        549|   France|Female| 25|     5|      0.0|            2|        0|             0|      190857.79|     0|\n",
            "|       15|  15600882|    Scott|        635|    Spain|Female| 35|     7|      0.0|            2|        1|             1|       65951.65|     0|\n",
            "|       16|  15643966|  Goforth|        616|  Germany|  Male| 45|     3|143129.41|            2|        0|             1|       64327.26|     0|\n",
            "|       17|  15737452|    Romeo|        653|  Germany|  Male| 58|     1|132602.88|            1|        1|             0|        5097.67|     1|\n",
            "|       18|  15788218|Henderson|        549|    Spain|Female| 24|     9|      0.0|            2|        1|             1|       14406.41|     0|\n",
            "|       19|  15661507|  Muldrow|        587|    Spain|  Male| 45|     6|      0.0|            1|        0|             0|      158684.81|     0|\n",
            "|       20|  15568982|      Hao|        726|   France|Female| 24|     6|      0.0|            2|        1|             1|       54724.03|     0|\n",
            "+---------+----------+---------+-----------+---------+------+---+------+---------+-------------+---------+--------------+---------------+------+\n",
            "only showing top 20 rows\n",
            "\n"
          ]
        }
      ]
    },
    {
      "cell_type": "code",
      "source": [
        "df.dtypes"
      ],
      "metadata": {
        "colab": {
          "base_uri": "https://localhost:8080/"
        },
        "id": "2-jptobDQTz0",
        "outputId": "9df8eca5-bb96-487c-eb2f-6f6b0cf3765d"
      },
      "execution_count": 23,
      "outputs": [
        {
          "output_type": "execute_result",
          "data": {
            "text/plain": [
              "[('rownumber', 'int'),\n",
              " ('customerid', 'int'),\n",
              " ('surname', 'string'),\n",
              " ('creditscore', 'int'),\n",
              " ('geography', 'string'),\n",
              " ('gender', 'string'),\n",
              " ('age', 'int'),\n",
              " ('tenure', 'int'),\n",
              " ('balance', 'double'),\n",
              " ('numofproducts', 'int'),\n",
              " ('hascrcard', 'int'),\n",
              " ('isactivemember', 'int'),\n",
              " ('estimatedsalary', 'double'),\n",
              " ('exited', 'int')]"
            ]
          },
          "metadata": {},
          "execution_count": 23
        }
      ]
    },
    {
      "cell_type": "code",
      "source": [
        "df.na.drop().show()"
      ],
      "metadata": {
        "colab": {
          "base_uri": "https://localhost:8080/"
        },
        "id": "q0wnqQuJQV65",
        "outputId": "b787a7f2-d80b-4de2-e822-8fe15f4b70d8"
      },
      "execution_count": 24,
      "outputs": [
        {
          "output_type": "stream",
          "name": "stdout",
          "text": [
            "+---------+----------+---------+-----------+---------+------+---+------+---------+-------------+---------+--------------+---------------+------+\n",
            "|rownumber|customerid|  surname|creditscore|geography|gender|age|tenure|  balance|numofproducts|hascrcard|isactivemember|estimatedsalary|exited|\n",
            "+---------+----------+---------+-----------+---------+------+---+------+---------+-------------+---------+--------------+---------------+------+\n",
            "|        1|  15634602| Hargrave|        619|   France|Female| 42|     2|      0.0|            1|        1|             1|      101348.88|     1|\n",
            "|        2|  15647311|     Hill|        608|    Spain|Female| 41|     1| 83807.86|            1|        0|             1|      112542.58|     0|\n",
            "|        3|  15619304|     Onio|        502|   France|Female| 42|     8| 159660.8|            3|        1|             0|      113931.57|     1|\n",
            "|        4|  15701354|     Boni|        699|   France|Female| 39|     1|      0.0|            2|        0|             0|       93826.63|     0|\n",
            "|        5|  15737888| Mitchell|        850|    Spain|Female| 43|     2|125510.82|            1|        1|             1|        79084.1|     0|\n",
            "|        6|  15574012|      Chu|        645|    Spain|  Male| 44|     8|113755.78|            2|        1|             0|      149756.71|     1|\n",
            "|        7|  15592531| Bartlett|        822|   France|  Male| 50|     7|      0.0|            2|        1|             1|        10062.8|     0|\n",
            "|        8|  15656148|   Obinna|        376|  Germany|Female| 29|     4|115046.74|            4|        1|             0|      119346.88|     1|\n",
            "|        9|  15792365|       He|        501|   France|  Male| 44|     4|142051.07|            2|        0|             1|        74940.5|     0|\n",
            "|       10|  15592389|       H?|        684|   France|  Male| 27|     2|134603.88|            1|        1|             1|       71725.73|     0|\n",
            "|       11|  15767821|   Bearce|        528|   France|  Male| 31|     6|102016.72|            2|        0|             0|       80181.12|     0|\n",
            "|       12|  15737173|  Andrews|        497|    Spain|  Male| 24|     3|      0.0|            2|        1|             0|       76390.01|     0|\n",
            "|       13|  15632264|      Kay|        476|   France|Female| 34|    10|      0.0|            2|        1|             0|       26260.98|     0|\n",
            "|       14|  15691483|     Chin|        549|   France|Female| 25|     5|      0.0|            2|        0|             0|      190857.79|     0|\n",
            "|       15|  15600882|    Scott|        635|    Spain|Female| 35|     7|      0.0|            2|        1|             1|       65951.65|     0|\n",
            "|       16|  15643966|  Goforth|        616|  Germany|  Male| 45|     3|143129.41|            2|        0|             1|       64327.26|     0|\n",
            "|       17|  15737452|    Romeo|        653|  Germany|  Male| 58|     1|132602.88|            1|        1|             0|        5097.67|     1|\n",
            "|       18|  15788218|Henderson|        549|    Spain|Female| 24|     9|      0.0|            2|        1|             1|       14406.41|     0|\n",
            "|       19|  15661507|  Muldrow|        587|    Spain|  Male| 45|     6|      0.0|            1|        0|             0|      158684.81|     0|\n",
            "|       20|  15568982|      Hao|        726|   France|Female| 24|     6|      0.0|            2|        1|             1|       54724.03|     0|\n",
            "+---------+----------+---------+-----------+---------+------+---+------+---------+-------------+---------+--------------+---------------+------+\n",
            "only showing top 20 rows\n",
            "\n"
          ]
        }
      ]
    },
    {
      "cell_type": "code",
      "source": [
        "df = df.withColumn('segment',\n",
        "                               when(df['tenure'] < 5, \"segment_b\").otherwise(\"segment_a\"))"
      ],
      "metadata": {
        "id": "w6dgmL9-Qsl3"
      },
      "execution_count": 25,
      "outputs": []
    },
    {
      "cell_type": "code",
      "source": [
        "df = df.withColumn('credit_range',\n",
        "                    when(df['creditscore'] < 300, 1).\n",
        "                    when((df['creditscore'] >= 300) & (df['creditscore'] < 501), 2).\n",
        "                    when((df['creditscore'] >= 501) & (df['creditscore'] < 601), 3).\n",
        "                    when((df['creditscore'] >= 601) & (df['creditscore'] < 701), 4).\n",
        "                    when((df['creditscore'] >= 701) & (df['creditscore'] < 801), 5).\n",
        "                    otherwise(6))"
      ],
      "metadata": {
        "id": "E-2AeSn_Qx_g"
      },
      "execution_count": 26,
      "outputs": []
    },
    {
      "cell_type": "code",
      "source": [
        "df = df.withColumn('est_retirement',\n",
        "                    when((df['age'] >= 65) & (df['geography'] == \"Germany\"), 1).\n",
        "                    when((df['age'] < 65) & (df['geography'] == \"Germany\"), 0).\n",
        "                    when((df['age'] >= 66) & (df['geography'] == \"Spain\"), 1).\n",
        "                    when((df['age'] < 66) & (df['geography'] == \"Spain\"), 0).\n",
        "                    when((df['age'] >= 62) & (df['geography'] == \"France\"), 1).\n",
        "                    when((df['age'] < 62) & (df['geography'] == \"France\"), 0))"
      ],
      "metadata": {
        "id": "WuYNfBCySBj_"
      },
      "execution_count": 27,
      "outputs": []
    },
    {
      "cell_type": "code",
      "source": [
        "df = df.withColumn('tenure_over_nop', when(df['numofproducts'] != 0, df[\"tenure\"] / df[\"numofproducts\"]).otherwise(3.7408166666666642))\n",
        "# Credit Score / Estimated Salary\n",
        "df = df.withColumn('cs_over_salary', when(df['estimatedsalary'] != 0, df[\"creditscore\"] / df[\"estimatedsalary\"]).otherwise(0.03370956933308409))\n",
        "# Estimated Salary / Tenure\n",
        "df = df.withColumn('estsalary_over_tenure',when(df['tenure'] != 0 , df[\"estimatedsalary\"] / df[\"tenure\"]).otherwise(30588.503512115203))\n",
        "# Balance is equal to 0 or Not\n",
        "df = df.withColumn('balance0',\n",
        "                    when(df['balance'] > 0.0, 0).otherwise(1))\n",
        "df.na.drop().show()"
      ],
      "metadata": {
        "colab": {
          "base_uri": "https://localhost:8080/"
        },
        "id": "2G7E-n81SEsD",
        "outputId": "3c6143e5-a02b-46c8-dc88-023db5335152"
      },
      "execution_count": 38,
      "outputs": [
        {
          "output_type": "stream",
          "name": "stdout",
          "text": [
            "+---------+----------+---------+-----------+---------+------+---+------+---------+-------------+---------+--------------+---------------+------+---------+------------+--------------+------------------+--------------------+---------------------+--------+\n",
            "|rownumber|customerid|  surname|creditscore|geography|gender|age|tenure|  balance|numofproducts|hascrcard|isactivemember|estimatedsalary|exited|  segment|credit_range|est_retirement|   tenure_over_nop|      cs_over_salary|estsalary_over_tenure|balance0|\n",
            "+---------+----------+---------+-----------+---------+------+---+------+---------+-------------+---------+--------------+---------------+------+---------+------------+--------------+------------------+--------------------+---------------------+--------+\n",
            "|        1|  15634602| Hargrave|        619|   France|Female| 42|     2|      0.0|            1|        1|             1|      101348.88|     1|segment_b|           4|             0|               2.0|0.006107615594765329|             50674.44|       1|\n",
            "|        2|  15647311|     Hill|        608|    Spain|Female| 41|     1| 83807.86|            1|        0|             1|      112542.58|     0|segment_b|           4|             0|               1.0|0.005402399696186101|            112542.58|       0|\n",
            "|        3|  15619304|     Onio|        502|   France|Female| 42|     8| 159660.8|            3|        1|             0|      113931.57|     1|segment_a|           3|             0|2.6666666666666665|0.004406153623618106|          14241.44625|       0|\n",
            "|        4|  15701354|     Boni|        699|   France|Female| 39|     1|      0.0|            2|        0|             0|       93826.63|     0|segment_b|           4|             0|               0.5|0.007449910542454738|             93826.63|       1|\n",
            "|        5|  15737888| Mitchell|        850|    Spain|Female| 43|     2|125510.82|            1|        1|             1|        79084.1|     0|segment_b|           6|             0|               2.0|0.010748051757559357|             39542.05|       0|\n",
            "|        6|  15574012|      Chu|        645|    Spain|  Male| 44|     8|113755.78|            2|        1|             0|      149756.71|     1|segment_a|           4|             0|               4.0|0.004306985643581513|          18719.58875|       0|\n",
            "|        7|  15592531| Bartlett|        822|   France|  Male| 50|     7|      0.0|            2|        1|             1|        10062.8|     0|segment_a|           6|             0|               3.5| 0.08168700560480185|    1437.542857142857|       1|\n",
            "|        8|  15656148|   Obinna|        376|  Germany|Female| 29|     4|115046.74|            4|        1|             0|      119346.88|     1|segment_b|           2|             0|               1.0|0.003150480347705...|             29836.72|       0|\n",
            "|        9|  15792365|       He|        501|   France|  Male| 44|     4|142051.07|            2|        0|             1|        74940.5|     0|segment_b|           3|             0|               2.0|0.006685303674248237|            18735.125|       0|\n",
            "|       10|  15592389|       H?|        684|   France|  Male| 27|     2|134603.88|            1|        1|             1|       71725.73|     0|segment_b|           4|             0|               2.0|0.009536326782592523|            35862.865|       0|\n",
            "|       11|  15767821|   Bearce|        528|   France|  Male| 31|     6|102016.72|            2|        0|             0|       80181.12|     0|segment_a|           3|             0|               3.0|0.006585091353176409|   13363.519999999999|       0|\n",
            "|       12|  15737173|  Andrews|        497|    Spain|  Male| 24|     3|      0.0|            2|        1|             0|       76390.01|     0|segment_b|           2|             0|               1.5|0.006506086332492954|   25463.336666666666|       1|\n",
            "|       13|  15632264|      Kay|        476|   France|Female| 34|    10|      0.0|            2|        1|             0|       26260.98|     0|segment_a|           2|             0|               5.0|0.018125751590382384|             2626.098|       1|\n",
            "|       14|  15691483|     Chin|        549|   France|Female| 25|     5|      0.0|            2|        0|             0|      190857.79|     0|segment_a|           3|             0|               2.5|0.002876487252629...|   38171.558000000005|       1|\n",
            "|       15|  15600882|    Scott|        635|    Spain|Female| 35|     7|      0.0|            2|        1|             1|       65951.65|     0|segment_a|           4|             0|               3.5|0.009628265555145323|    9421.664285714285|       1|\n",
            "|       16|  15643966|  Goforth|        616|  Germany|  Male| 45|     3|143129.41|            2|        0|             1|       64327.26|     0|segment_b|           4|             0|               1.5|0.009576033550939368|   21442.420000000002|       0|\n",
            "|       17|  15737452|    Romeo|        653|  Germany|  Male| 58|     1|132602.88|            1|        1|             0|        5097.67|     1|segment_b|           4|             0|               1.0|  0.1280977387708502|              5097.67|       0|\n",
            "|       18|  15788218|Henderson|        549|    Spain|Female| 24|     9|      0.0|            2|        1|             1|       14406.41|     0|segment_a|           3|             0|               4.5| 0.03810803663091638|   1600.7122222222222|       1|\n",
            "|       19|  15661507|  Muldrow|        587|    Spain|  Male| 45|     6|      0.0|            1|        0|             0|      158684.81|     0|segment_a|           3|             0|               6.0|0.003699156838011...|   26447.468333333334|       1|\n",
            "|       20|  15568982|      Hao|        726|   France|Female| 24|     6|      0.0|            2|        1|             1|       54724.03|     0|segment_a|           5|             0|               3.0|0.013266566808036616|    9120.671666666667|       1|\n",
            "+---------+----------+---------+-----------+---------+------+---+------+---------+-------------+---------+--------------+---------------+------+---------+------------+--------------+------------------+--------------------+---------------------+--------+\n",
            "only showing top 20 rows\n",
            "\n"
          ]
        }
      ]
    },
    {
      "cell_type": "code",
      "source": [
        "from pyspark.sql.functions import mean\n",
        "\n",
        "df.select(mean(\"tenure_over_nop\")).show() , df.select(mean(\"cs_over_salary\")).show() , df.select(mean(\"estsalary_over_tenure\")).show()"
      ],
      "metadata": {
        "colab": {
          "base_uri": "https://localhost:8080/"
        },
        "id": "sCJ68xqBCLdd",
        "outputId": "2c793c44-2d88-4a6e-f7de-c5d7a53f3799"
      },
      "execution_count": 37,
      "outputs": [
        {
          "output_type": "stream",
          "name": "stdout",
          "text": [
            "+--------------------+\n",
            "|avg(tenure_over_nop)|\n",
            "+--------------------+\n",
            "|  3.7408166666666642|\n",
            "+--------------------+\n",
            "\n",
            "+-------------------+\n",
            "|avg(cs_over_salary)|\n",
            "+-------------------+\n",
            "|0.03370956933308409|\n",
            "+-------------------+\n",
            "\n",
            "+--------------------------+\n",
            "|avg(estsalary_over_tenure)|\n",
            "+--------------------------+\n",
            "|        30588.503512115203|\n",
            "+--------------------------+\n",
            "\n"
          ]
        },
        {
          "output_type": "execute_result",
          "data": {
            "text/plain": [
              "(None, None, None)"
            ]
          },
          "metadata": {},
          "execution_count": 37
        }
      ]
    },
    {
      "cell_type": "code",
      "source": [
        "bucketizer = Bucketizer(splits=[18, 30, 40, 50, 60, 92], inputCol=\"age\", outputCol=\"age_cat\")\n",
        "\n",
        "df = bucketizer.setHandleInvalid(\"keep\").transform(df)\n",
        "\n",
        "df = df.withColumn('age_cat', df.age_cat + 1)\n",
        "\n",
        "spark_df = df.drop(\"balance\", \"creditscore\", \"rownumber\", \"customerid\", \"surname\", \"estimatedsalary\")\n",
        "\n",
        "df.show(20)"
      ],
      "metadata": {
        "colab": {
          "base_uri": "https://localhost:8080/"
        },
        "id": "PwdoeMA5SH90",
        "outputId": "7d37d830-0906-4215-eecf-ed74fa8fec88"
      },
      "execution_count": 39,
      "outputs": [
        {
          "output_type": "stream",
          "name": "stdout",
          "text": [
            "+---------+----------+---------+-----------+---------+------+---+------+---------+-------------+---------+--------------+---------------+------+---------+------------+--------------+------------------+--------------------+---------------------+--------+-------+\n",
            "|rownumber|customerid|  surname|creditscore|geography|gender|age|tenure|  balance|numofproducts|hascrcard|isactivemember|estimatedsalary|exited|  segment|credit_range|est_retirement|   tenure_over_nop|      cs_over_salary|estsalary_over_tenure|balance0|age_cat|\n",
            "+---------+----------+---------+-----------+---------+------+---+------+---------+-------------+---------+--------------+---------------+------+---------+------------+--------------+------------------+--------------------+---------------------+--------+-------+\n",
            "|        1|  15634602| Hargrave|        619|   France|Female| 42|     2|      0.0|            1|        1|             1|      101348.88|     1|segment_b|           4|             0|               2.0|0.006107615594765329|             50674.44|       1|    3.0|\n",
            "|        2|  15647311|     Hill|        608|    Spain|Female| 41|     1| 83807.86|            1|        0|             1|      112542.58|     0|segment_b|           4|             0|               1.0|0.005402399696186101|            112542.58|       0|    3.0|\n",
            "|        3|  15619304|     Onio|        502|   France|Female| 42|     8| 159660.8|            3|        1|             0|      113931.57|     1|segment_a|           3|             0|2.6666666666666665|0.004406153623618106|          14241.44625|       0|    3.0|\n",
            "|        4|  15701354|     Boni|        699|   France|Female| 39|     1|      0.0|            2|        0|             0|       93826.63|     0|segment_b|           4|             0|               0.5|0.007449910542454738|             93826.63|       1|    2.0|\n",
            "|        5|  15737888| Mitchell|        850|    Spain|Female| 43|     2|125510.82|            1|        1|             1|        79084.1|     0|segment_b|           6|             0|               2.0|0.010748051757559357|             39542.05|       0|    3.0|\n",
            "|        6|  15574012|      Chu|        645|    Spain|  Male| 44|     8|113755.78|            2|        1|             0|      149756.71|     1|segment_a|           4|             0|               4.0|0.004306985643581513|          18719.58875|       0|    3.0|\n",
            "|        7|  15592531| Bartlett|        822|   France|  Male| 50|     7|      0.0|            2|        1|             1|        10062.8|     0|segment_a|           6|             0|               3.5| 0.08168700560480185|    1437.542857142857|       1|    4.0|\n",
            "|        8|  15656148|   Obinna|        376|  Germany|Female| 29|     4|115046.74|            4|        1|             0|      119346.88|     1|segment_b|           2|             0|               1.0|0.003150480347705...|             29836.72|       0|    1.0|\n",
            "|        9|  15792365|       He|        501|   France|  Male| 44|     4|142051.07|            2|        0|             1|        74940.5|     0|segment_b|           3|             0|               2.0|0.006685303674248237|            18735.125|       0|    3.0|\n",
            "|       10|  15592389|       H?|        684|   France|  Male| 27|     2|134603.88|            1|        1|             1|       71725.73|     0|segment_b|           4|             0|               2.0|0.009536326782592523|            35862.865|       0|    1.0|\n",
            "|       11|  15767821|   Bearce|        528|   France|  Male| 31|     6|102016.72|            2|        0|             0|       80181.12|     0|segment_a|           3|             0|               3.0|0.006585091353176409|   13363.519999999999|       0|    2.0|\n",
            "|       12|  15737173|  Andrews|        497|    Spain|  Male| 24|     3|      0.0|            2|        1|             0|       76390.01|     0|segment_b|           2|             0|               1.5|0.006506086332492954|   25463.336666666666|       1|    1.0|\n",
            "|       13|  15632264|      Kay|        476|   France|Female| 34|    10|      0.0|            2|        1|             0|       26260.98|     0|segment_a|           2|             0|               5.0|0.018125751590382384|             2626.098|       1|    2.0|\n",
            "|       14|  15691483|     Chin|        549|   France|Female| 25|     5|      0.0|            2|        0|             0|      190857.79|     0|segment_a|           3|             0|               2.5|0.002876487252629...|   38171.558000000005|       1|    1.0|\n",
            "|       15|  15600882|    Scott|        635|    Spain|Female| 35|     7|      0.0|            2|        1|             1|       65951.65|     0|segment_a|           4|             0|               3.5|0.009628265555145323|    9421.664285714285|       1|    2.0|\n",
            "|       16|  15643966|  Goforth|        616|  Germany|  Male| 45|     3|143129.41|            2|        0|             1|       64327.26|     0|segment_b|           4|             0|               1.5|0.009576033550939368|   21442.420000000002|       0|    3.0|\n",
            "|       17|  15737452|    Romeo|        653|  Germany|  Male| 58|     1|132602.88|            1|        1|             0|        5097.67|     1|segment_b|           4|             0|               1.0|  0.1280977387708502|              5097.67|       0|    4.0|\n",
            "|       18|  15788218|Henderson|        549|    Spain|Female| 24|     9|      0.0|            2|        1|             1|       14406.41|     0|segment_a|           3|             0|               4.5| 0.03810803663091638|   1600.7122222222222|       1|    1.0|\n",
            "|       19|  15661507|  Muldrow|        587|    Spain|  Male| 45|     6|      0.0|            1|        0|             0|      158684.81|     0|segment_a|           3|             0|               6.0|0.003699156838011...|   26447.468333333334|       1|    3.0|\n",
            "|       20|  15568982|      Hao|        726|   France|Female| 24|     6|      0.0|            2|        1|             1|       54724.03|     0|segment_a|           5|             0|               3.0|0.013266566808036616|    9120.671666666667|       1|    1.0|\n",
            "+---------+----------+---------+-----------+---------+------+---+------+---------+-------------+---------+--------------+---------------+------+---------+------------+--------------+------------------+--------------------+---------------------+--------+-------+\n",
            "only showing top 20 rows\n",
            "\n"
          ]
        }
      ]
    },
    {
      "cell_type": "code",
      "source": [
        "spark_df.show()"
      ],
      "metadata": {
        "colab": {
          "base_uri": "https://localhost:8080/"
        },
        "id": "qUAs7YpiSMBD",
        "outputId": "3d68dd65-01a9-4780-a5dd-9e2417dad3e4"
      },
      "execution_count": 40,
      "outputs": [
        {
          "output_type": "stream",
          "name": "stdout",
          "text": [
            "+---------+------+---+------+-------------+---------+--------------+------+---------+------------+--------------+------------------+--------------------+---------------------+--------+-------+\n",
            "|geography|gender|age|tenure|numofproducts|hascrcard|isactivemember|exited|  segment|credit_range|est_retirement|   tenure_over_nop|      cs_over_salary|estsalary_over_tenure|balance0|age_cat|\n",
            "+---------+------+---+------+-------------+---------+--------------+------+---------+------------+--------------+------------------+--------------------+---------------------+--------+-------+\n",
            "|   France|Female| 42|     2|            1|        1|             1|     1|segment_b|           4|             0|               2.0|0.006107615594765329|             50674.44|       1|    3.0|\n",
            "|    Spain|Female| 41|     1|            1|        0|             1|     0|segment_b|           4|             0|               1.0|0.005402399696186101|            112542.58|       0|    3.0|\n",
            "|   France|Female| 42|     8|            3|        1|             0|     1|segment_a|           3|             0|2.6666666666666665|0.004406153623618106|          14241.44625|       0|    3.0|\n",
            "|   France|Female| 39|     1|            2|        0|             0|     0|segment_b|           4|             0|               0.5|0.007449910542454738|             93826.63|       1|    2.0|\n",
            "|    Spain|Female| 43|     2|            1|        1|             1|     0|segment_b|           6|             0|               2.0|0.010748051757559357|             39542.05|       0|    3.0|\n",
            "|    Spain|  Male| 44|     8|            2|        1|             0|     1|segment_a|           4|             0|               4.0|0.004306985643581513|          18719.58875|       0|    3.0|\n",
            "|   France|  Male| 50|     7|            2|        1|             1|     0|segment_a|           6|             0|               3.5| 0.08168700560480185|    1437.542857142857|       1|    4.0|\n",
            "|  Germany|Female| 29|     4|            4|        1|             0|     1|segment_b|           2|             0|               1.0|0.003150480347705...|             29836.72|       0|    1.0|\n",
            "|   France|  Male| 44|     4|            2|        0|             1|     0|segment_b|           3|             0|               2.0|0.006685303674248237|            18735.125|       0|    3.0|\n",
            "|   France|  Male| 27|     2|            1|        1|             1|     0|segment_b|           4|             0|               2.0|0.009536326782592523|            35862.865|       0|    1.0|\n",
            "|   France|  Male| 31|     6|            2|        0|             0|     0|segment_a|           3|             0|               3.0|0.006585091353176409|   13363.519999999999|       0|    2.0|\n",
            "|    Spain|  Male| 24|     3|            2|        1|             0|     0|segment_b|           2|             0|               1.5|0.006506086332492954|   25463.336666666666|       1|    1.0|\n",
            "|   France|Female| 34|    10|            2|        1|             0|     0|segment_a|           2|             0|               5.0|0.018125751590382384|             2626.098|       1|    2.0|\n",
            "|   France|Female| 25|     5|            2|        0|             0|     0|segment_a|           3|             0|               2.5|0.002876487252629...|   38171.558000000005|       1|    1.0|\n",
            "|    Spain|Female| 35|     7|            2|        1|             1|     0|segment_a|           4|             0|               3.5|0.009628265555145323|    9421.664285714285|       1|    2.0|\n",
            "|  Germany|  Male| 45|     3|            2|        0|             1|     0|segment_b|           4|             0|               1.5|0.009576033550939368|   21442.420000000002|       0|    3.0|\n",
            "|  Germany|  Male| 58|     1|            1|        1|             0|     1|segment_b|           4|             0|               1.0|  0.1280977387708502|              5097.67|       0|    4.0|\n",
            "|    Spain|Female| 24|     9|            2|        1|             1|     0|segment_a|           3|             0|               4.5| 0.03810803663091638|   1600.7122222222222|       1|    1.0|\n",
            "|    Spain|  Male| 45|     6|            1|        0|             0|     0|segment_a|           3|             0|               6.0|0.003699156838011...|   26447.468333333334|       1|    3.0|\n",
            "|   France|Female| 24|     6|            2|        1|             1|     0|segment_a|           5|             0|               3.0|0.013266566808036616|    9120.671666666667|       1|    1.0|\n",
            "+---------+------+---+------+-------------+---------+--------------+------+---------+------------+--------------+------------------+--------------------+---------------------+--------+-------+\n",
            "only showing top 20 rows\n",
            "\n"
          ]
        }
      ]
    },
    {
      "cell_type": "code",
      "source": [
        "spark_df.dtypes"
      ],
      "metadata": {
        "colab": {
          "base_uri": "https://localhost:8080/"
        },
        "id": "Tcf_EAqXSQ8Y",
        "outputId": "ae925269-cdfd-4a00-a96b-b3c932940979"
      },
      "execution_count": 41,
      "outputs": [
        {
          "output_type": "execute_result",
          "data": {
            "text/plain": [
              "[('geography', 'string'),\n",
              " ('gender', 'string'),\n",
              " ('age', 'int'),\n",
              " ('tenure', 'int'),\n",
              " ('numofproducts', 'int'),\n",
              " ('hascrcard', 'int'),\n",
              " ('isactivemember', 'int'),\n",
              " ('exited', 'int'),\n",
              " ('segment', 'string'),\n",
              " ('credit_range', 'int'),\n",
              " ('est_retirement', 'int'),\n",
              " ('tenure_over_nop', 'double'),\n",
              " ('cs_over_salary', 'double'),\n",
              " ('estsalary_over_tenure', 'double'),\n",
              " ('balance0', 'int'),\n",
              " ('age_cat', 'double')]"
            ]
          },
          "metadata": {},
          "execution_count": 41
        }
      ]
    },
    {
      "cell_type": "code",
      "source": [
        "spark_df = spark_df.drop('age')"
      ],
      "metadata": {
        "id": "Vv9JB7-QSZr0"
      },
      "execution_count": 42,
      "outputs": []
    },
    {
      "cell_type": "code",
      "source": [
        "spark_df.show()"
      ],
      "metadata": {
        "colab": {
          "base_uri": "https://localhost:8080/"
        },
        "id": "sbvx9I27UKk-",
        "outputId": "f2e246e1-ed87-4576-b320-abc9c8270d49"
      },
      "execution_count": 43,
      "outputs": [
        {
          "output_type": "stream",
          "name": "stdout",
          "text": [
            "+---------+------+------+-------------+---------+--------------+------+---------+------------+--------------+------------------+--------------------+---------------------+--------+-------+\n",
            "|geography|gender|tenure|numofproducts|hascrcard|isactivemember|exited|  segment|credit_range|est_retirement|   tenure_over_nop|      cs_over_salary|estsalary_over_tenure|balance0|age_cat|\n",
            "+---------+------+------+-------------+---------+--------------+------+---------+------------+--------------+------------------+--------------------+---------------------+--------+-------+\n",
            "|   France|Female|     2|            1|        1|             1|     1|segment_b|           4|             0|               2.0|0.006107615594765329|             50674.44|       1|    3.0|\n",
            "|    Spain|Female|     1|            1|        0|             1|     0|segment_b|           4|             0|               1.0|0.005402399696186101|            112542.58|       0|    3.0|\n",
            "|   France|Female|     8|            3|        1|             0|     1|segment_a|           3|             0|2.6666666666666665|0.004406153623618106|          14241.44625|       0|    3.0|\n",
            "|   France|Female|     1|            2|        0|             0|     0|segment_b|           4|             0|               0.5|0.007449910542454738|             93826.63|       1|    2.0|\n",
            "|    Spain|Female|     2|            1|        1|             1|     0|segment_b|           6|             0|               2.0|0.010748051757559357|             39542.05|       0|    3.0|\n",
            "|    Spain|  Male|     8|            2|        1|             0|     1|segment_a|           4|             0|               4.0|0.004306985643581513|          18719.58875|       0|    3.0|\n",
            "|   France|  Male|     7|            2|        1|             1|     0|segment_a|           6|             0|               3.5| 0.08168700560480185|    1437.542857142857|       1|    4.0|\n",
            "|  Germany|Female|     4|            4|        1|             0|     1|segment_b|           2|             0|               1.0|0.003150480347705...|             29836.72|       0|    1.0|\n",
            "|   France|  Male|     4|            2|        0|             1|     0|segment_b|           3|             0|               2.0|0.006685303674248237|            18735.125|       0|    3.0|\n",
            "|   France|  Male|     2|            1|        1|             1|     0|segment_b|           4|             0|               2.0|0.009536326782592523|            35862.865|       0|    1.0|\n",
            "|   France|  Male|     6|            2|        0|             0|     0|segment_a|           3|             0|               3.0|0.006585091353176409|   13363.519999999999|       0|    2.0|\n",
            "|    Spain|  Male|     3|            2|        1|             0|     0|segment_b|           2|             0|               1.5|0.006506086332492954|   25463.336666666666|       1|    1.0|\n",
            "|   France|Female|    10|            2|        1|             0|     0|segment_a|           2|             0|               5.0|0.018125751590382384|             2626.098|       1|    2.0|\n",
            "|   France|Female|     5|            2|        0|             0|     0|segment_a|           3|             0|               2.5|0.002876487252629...|   38171.558000000005|       1|    1.0|\n",
            "|    Spain|Female|     7|            2|        1|             1|     0|segment_a|           4|             0|               3.5|0.009628265555145323|    9421.664285714285|       1|    2.0|\n",
            "|  Germany|  Male|     3|            2|        0|             1|     0|segment_b|           4|             0|               1.5|0.009576033550939368|   21442.420000000002|       0|    3.0|\n",
            "|  Germany|  Male|     1|            1|        1|             0|     1|segment_b|           4|             0|               1.0|  0.1280977387708502|              5097.67|       0|    4.0|\n",
            "|    Spain|Female|     9|            2|        1|             1|     0|segment_a|           3|             0|               4.5| 0.03810803663091638|   1600.7122222222222|       1|    1.0|\n",
            "|    Spain|  Male|     6|            1|        0|             0|     0|segment_a|           3|             0|               6.0|0.003699156838011...|   26447.468333333334|       1|    3.0|\n",
            "|   France|Female|     6|            2|        1|             1|     0|segment_a|           5|             0|               3.0|0.013266566808036616|    9120.671666666667|       1|    1.0|\n",
            "+---------+------+------+-------------+---------+--------------+------+---------+------------+--------------+------------------+--------------------+---------------------+--------+-------+\n",
            "only showing top 20 rows\n",
            "\n"
          ]
        }
      ]
    },
    {
      "cell_type": "code",
      "source": [
        "spark_df = spark_df.drop('tenure')"
      ],
      "metadata": {
        "id": "0TH7PE5hUMzH"
      },
      "execution_count": 44,
      "outputs": []
    },
    {
      "cell_type": "code",
      "source": [
        "spark_df.show()"
      ],
      "metadata": {
        "colab": {
          "base_uri": "https://localhost:8080/"
        },
        "id": "FbaCR-74UTjb",
        "outputId": "05d646d2-26cb-4c2b-ca7c-febae5c7dd7b"
      },
      "execution_count": 45,
      "outputs": [
        {
          "output_type": "stream",
          "name": "stdout",
          "text": [
            "+---------+------+-------------+---------+--------------+------+---------+------------+--------------+------------------+--------------------+---------------------+--------+-------+\n",
            "|geography|gender|numofproducts|hascrcard|isactivemember|exited|  segment|credit_range|est_retirement|   tenure_over_nop|      cs_over_salary|estsalary_over_tenure|balance0|age_cat|\n",
            "+---------+------+-------------+---------+--------------+------+---------+------------+--------------+------------------+--------------------+---------------------+--------+-------+\n",
            "|   France|Female|            1|        1|             1|     1|segment_b|           4|             0|               2.0|0.006107615594765329|             50674.44|       1|    3.0|\n",
            "|    Spain|Female|            1|        0|             1|     0|segment_b|           4|             0|               1.0|0.005402399696186101|            112542.58|       0|    3.0|\n",
            "|   France|Female|            3|        1|             0|     1|segment_a|           3|             0|2.6666666666666665|0.004406153623618106|          14241.44625|       0|    3.0|\n",
            "|   France|Female|            2|        0|             0|     0|segment_b|           4|             0|               0.5|0.007449910542454738|             93826.63|       1|    2.0|\n",
            "|    Spain|Female|            1|        1|             1|     0|segment_b|           6|             0|               2.0|0.010748051757559357|             39542.05|       0|    3.0|\n",
            "|    Spain|  Male|            2|        1|             0|     1|segment_a|           4|             0|               4.0|0.004306985643581513|          18719.58875|       0|    3.0|\n",
            "|   France|  Male|            2|        1|             1|     0|segment_a|           6|             0|               3.5| 0.08168700560480185|    1437.542857142857|       1|    4.0|\n",
            "|  Germany|Female|            4|        1|             0|     1|segment_b|           2|             0|               1.0|0.003150480347705...|             29836.72|       0|    1.0|\n",
            "|   France|  Male|            2|        0|             1|     0|segment_b|           3|             0|               2.0|0.006685303674248237|            18735.125|       0|    3.0|\n",
            "|   France|  Male|            1|        1|             1|     0|segment_b|           4|             0|               2.0|0.009536326782592523|            35862.865|       0|    1.0|\n",
            "|   France|  Male|            2|        0|             0|     0|segment_a|           3|             0|               3.0|0.006585091353176409|   13363.519999999999|       0|    2.0|\n",
            "|    Spain|  Male|            2|        1|             0|     0|segment_b|           2|             0|               1.5|0.006506086332492954|   25463.336666666666|       1|    1.0|\n",
            "|   France|Female|            2|        1|             0|     0|segment_a|           2|             0|               5.0|0.018125751590382384|             2626.098|       1|    2.0|\n",
            "|   France|Female|            2|        0|             0|     0|segment_a|           3|             0|               2.5|0.002876487252629...|   38171.558000000005|       1|    1.0|\n",
            "|    Spain|Female|            2|        1|             1|     0|segment_a|           4|             0|               3.5|0.009628265555145323|    9421.664285714285|       1|    2.0|\n",
            "|  Germany|  Male|            2|        0|             1|     0|segment_b|           4|             0|               1.5|0.009576033550939368|   21442.420000000002|       0|    3.0|\n",
            "|  Germany|  Male|            1|        1|             0|     1|segment_b|           4|             0|               1.0|  0.1280977387708502|              5097.67|       0|    4.0|\n",
            "|    Spain|Female|            2|        1|             1|     0|segment_a|           3|             0|               4.5| 0.03810803663091638|   1600.7122222222222|       1|    1.0|\n",
            "|    Spain|  Male|            1|        0|             0|     0|segment_a|           3|             0|               6.0|0.003699156838011...|   26447.468333333334|       1|    3.0|\n",
            "|   France|Female|            2|        1|             1|     0|segment_a|           5|             0|               3.0|0.013266566808036616|    9120.671666666667|       1|    1.0|\n",
            "+---------+------+-------------+---------+--------------+------+---------+------------+--------------+------------------+--------------------+---------------------+--------+-------+\n",
            "only showing top 20 rows\n",
            "\n"
          ]
        }
      ]
    },
    {
      "cell_type": "code",
      "source": [
        "indexer = StringIndexer(inputCol=\"segment\", outputCol=\"segment_label\")\n",
        "\n",
        "indexer.fit(spark_df).transform(spark_df)\n",
        "\n",
        "temp_sdf = indexer.fit(spark_df).transform(spark_df)\n",
        "\n",
        "spark_df = temp_sdf.withColumn(\"segment_label\", temp_sdf[\"segment_label\"].cast(\"integer\"))\n",
        "\n",
        "spark_df = spark_df.drop('segment')\n"
      ],
      "metadata": {
        "id": "Myxsax_lUV5f"
      },
      "execution_count": 46,
      "outputs": []
    },
    {
      "cell_type": "code",
      "source": [
        "spark_df.show()"
      ],
      "metadata": {
        "colab": {
          "base_uri": "https://localhost:8080/"
        },
        "id": "WocDuvR_Uooa",
        "outputId": "12394d2d-46a0-405d-f994-e747dcfadeb9"
      },
      "execution_count": 47,
      "outputs": [
        {
          "output_type": "stream",
          "name": "stdout",
          "text": [
            "+---------+------+-------------+---------+--------------+------+------------+--------------+------------------+--------------------+---------------------+--------+-------+-------------+\n",
            "|geography|gender|numofproducts|hascrcard|isactivemember|exited|credit_range|est_retirement|   tenure_over_nop|      cs_over_salary|estsalary_over_tenure|balance0|age_cat|segment_label|\n",
            "+---------+------+-------------+---------+--------------+------+------------+--------------+------------------+--------------------+---------------------+--------+-------+-------------+\n",
            "|   France|Female|            1|        1|             1|     1|           4|             0|               2.0|0.006107615594765329|             50674.44|       1|    3.0|            1|\n",
            "|    Spain|Female|            1|        0|             1|     0|           4|             0|               1.0|0.005402399696186101|            112542.58|       0|    3.0|            1|\n",
            "|   France|Female|            3|        1|             0|     1|           3|             0|2.6666666666666665|0.004406153623618106|          14241.44625|       0|    3.0|            0|\n",
            "|   France|Female|            2|        0|             0|     0|           4|             0|               0.5|0.007449910542454738|             93826.63|       1|    2.0|            1|\n",
            "|    Spain|Female|            1|        1|             1|     0|           6|             0|               2.0|0.010748051757559357|             39542.05|       0|    3.0|            1|\n",
            "|    Spain|  Male|            2|        1|             0|     1|           4|             0|               4.0|0.004306985643581513|          18719.58875|       0|    3.0|            0|\n",
            "|   France|  Male|            2|        1|             1|     0|           6|             0|               3.5| 0.08168700560480185|    1437.542857142857|       1|    4.0|            0|\n",
            "|  Germany|Female|            4|        1|             0|     1|           2|             0|               1.0|0.003150480347705...|             29836.72|       0|    1.0|            1|\n",
            "|   France|  Male|            2|        0|             1|     0|           3|             0|               2.0|0.006685303674248237|            18735.125|       0|    3.0|            1|\n",
            "|   France|  Male|            1|        1|             1|     0|           4|             0|               2.0|0.009536326782592523|            35862.865|       0|    1.0|            1|\n",
            "|   France|  Male|            2|        0|             0|     0|           3|             0|               3.0|0.006585091353176409|   13363.519999999999|       0|    2.0|            0|\n",
            "|    Spain|  Male|            2|        1|             0|     0|           2|             0|               1.5|0.006506086332492954|   25463.336666666666|       1|    1.0|            1|\n",
            "|   France|Female|            2|        1|             0|     0|           2|             0|               5.0|0.018125751590382384|             2626.098|       1|    2.0|            0|\n",
            "|   France|Female|            2|        0|             0|     0|           3|             0|               2.5|0.002876487252629...|   38171.558000000005|       1|    1.0|            0|\n",
            "|    Spain|Female|            2|        1|             1|     0|           4|             0|               3.5|0.009628265555145323|    9421.664285714285|       1|    2.0|            0|\n",
            "|  Germany|  Male|            2|        0|             1|     0|           4|             0|               1.5|0.009576033550939368|   21442.420000000002|       0|    3.0|            1|\n",
            "|  Germany|  Male|            1|        1|             0|     1|           4|             0|               1.0|  0.1280977387708502|              5097.67|       0|    4.0|            1|\n",
            "|    Spain|Female|            2|        1|             1|     0|           3|             0|               4.5| 0.03810803663091638|   1600.7122222222222|       1|    1.0|            0|\n",
            "|    Spain|  Male|            1|        0|             0|     0|           3|             0|               6.0|0.003699156838011...|   26447.468333333334|       1|    3.0|            0|\n",
            "|   France|Female|            2|        1|             1|     0|           5|             0|               3.0|0.013266566808036616|    9120.671666666667|       1|    1.0|            0|\n",
            "+---------+------+-------------+---------+--------------+------+------------+--------------+------------------+--------------------+---------------------+--------+-------+-------------+\n",
            "only showing top 20 rows\n",
            "\n"
          ]
        }
      ]
    },
    {
      "cell_type": "code",
      "source": [],
      "metadata": {
        "id": "9JEaf6NUXIck"
      },
      "execution_count": 47,
      "outputs": []
    },
    {
      "cell_type": "code",
      "source": [
        "spark_df.show()"
      ],
      "metadata": {
        "colab": {
          "base_uri": "https://localhost:8080/"
        },
        "id": "SeG80yXPsMRf",
        "outputId": "b12f3125-148a-4edc-b201-5d8d5f605246"
      },
      "execution_count": 48,
      "outputs": [
        {
          "output_type": "stream",
          "name": "stdout",
          "text": [
            "+---------+------+-------------+---------+--------------+------+------------+--------------+------------------+--------------------+---------------------+--------+-------+-------------+\n",
            "|geography|gender|numofproducts|hascrcard|isactivemember|exited|credit_range|est_retirement|   tenure_over_nop|      cs_over_salary|estsalary_over_tenure|balance0|age_cat|segment_label|\n",
            "+---------+------+-------------+---------+--------------+------+------------+--------------+------------------+--------------------+---------------------+--------+-------+-------------+\n",
            "|   France|Female|            1|        1|             1|     1|           4|             0|               2.0|0.006107615594765329|             50674.44|       1|    3.0|            1|\n",
            "|    Spain|Female|            1|        0|             1|     0|           4|             0|               1.0|0.005402399696186101|            112542.58|       0|    3.0|            1|\n",
            "|   France|Female|            3|        1|             0|     1|           3|             0|2.6666666666666665|0.004406153623618106|          14241.44625|       0|    3.0|            0|\n",
            "|   France|Female|            2|        0|             0|     0|           4|             0|               0.5|0.007449910542454738|             93826.63|       1|    2.0|            1|\n",
            "|    Spain|Female|            1|        1|             1|     0|           6|             0|               2.0|0.010748051757559357|             39542.05|       0|    3.0|            1|\n",
            "|    Spain|  Male|            2|        1|             0|     1|           4|             0|               4.0|0.004306985643581513|          18719.58875|       0|    3.0|            0|\n",
            "|   France|  Male|            2|        1|             1|     0|           6|             0|               3.5| 0.08168700560480185|    1437.542857142857|       1|    4.0|            0|\n",
            "|  Germany|Female|            4|        1|             0|     1|           2|             0|               1.0|0.003150480347705...|             29836.72|       0|    1.0|            1|\n",
            "|   France|  Male|            2|        0|             1|     0|           3|             0|               2.0|0.006685303674248237|            18735.125|       0|    3.0|            1|\n",
            "|   France|  Male|            1|        1|             1|     0|           4|             0|               2.0|0.009536326782592523|            35862.865|       0|    1.0|            1|\n",
            "|   France|  Male|            2|        0|             0|     0|           3|             0|               3.0|0.006585091353176409|   13363.519999999999|       0|    2.0|            0|\n",
            "|    Spain|  Male|            2|        1|             0|     0|           2|             0|               1.5|0.006506086332492954|   25463.336666666666|       1|    1.0|            1|\n",
            "|   France|Female|            2|        1|             0|     0|           2|             0|               5.0|0.018125751590382384|             2626.098|       1|    2.0|            0|\n",
            "|   France|Female|            2|        0|             0|     0|           3|             0|               2.5|0.002876487252629...|   38171.558000000005|       1|    1.0|            0|\n",
            "|    Spain|Female|            2|        1|             1|     0|           4|             0|               3.5|0.009628265555145323|    9421.664285714285|       1|    2.0|            0|\n",
            "|  Germany|  Male|            2|        0|             1|     0|           4|             0|               1.5|0.009576033550939368|   21442.420000000002|       0|    3.0|            1|\n",
            "|  Germany|  Male|            1|        1|             0|     1|           4|             0|               1.0|  0.1280977387708502|              5097.67|       0|    4.0|            1|\n",
            "|    Spain|Female|            2|        1|             1|     0|           3|             0|               4.5| 0.03810803663091638|   1600.7122222222222|       1|    1.0|            0|\n",
            "|    Spain|  Male|            1|        0|             0|     0|           3|             0|               6.0|0.003699156838011...|   26447.468333333334|       1|    3.0|            0|\n",
            "|   France|Female|            2|        1|             1|     0|           5|             0|               3.0|0.013266566808036616|    9120.671666666667|       1|    1.0|            0|\n",
            "+---------+------+-------------+---------+--------------+------+------------+--------------+------------------+--------------------+---------------------+--------+-------+-------------+\n",
            "only showing top 20 rows\n",
            "\n"
          ]
        }
      ]
    },
    {
      "cell_type": "code",
      "source": [
        "indexer = StringIndexer(inputCol=\"geography\", outputCol=\"geographyIndex\")\n",
        "spark_df = indexer.fit(spark_df).transform(spark_df)\n",
        "indexer = StringIndexer(inputCol=\"gender\", outputCol=\"genderIndex\")\n",
        "spark_df = indexer.fit(spark_df).transform(spark_df)"
      ],
      "metadata": {
        "id": "pK9Lfp4R73fP"
      },
      "execution_count": 49,
      "outputs": []
    },
    {
      "cell_type": "code",
      "source": [
        "\n",
        "encoder = OneHotEncoder(inputCols=[\"geographyIndex\"], outputCols=[\"geographyIndex_ohe\"])\n",
        "spark_df = encoder.fit(spark_df).transform(spark_df)"
      ],
      "metadata": {
        "id": "w8EhT4vYsS28"
      },
      "execution_count": 50,
      "outputs": []
    },
    {
      "cell_type": "code",
      "source": [
        "spark_df.show()"
      ],
      "metadata": {
        "colab": {
          "base_uri": "https://localhost:8080/"
        },
        "id": "sxL2nccYtW3k",
        "outputId": "aba9314f-394d-4042-a072-3f5f3fd50fc1"
      },
      "execution_count": 51,
      "outputs": [
        {
          "output_type": "stream",
          "name": "stdout",
          "text": [
            "+---------+------+-------------+---------+--------------+------+------------+--------------+------------------+--------------------+---------------------+--------+-------+-------------+--------------+-----------+------------------+\n",
            "|geography|gender|numofproducts|hascrcard|isactivemember|exited|credit_range|est_retirement|   tenure_over_nop|      cs_over_salary|estsalary_over_tenure|balance0|age_cat|segment_label|geographyIndex|genderIndex|geographyIndex_ohe|\n",
            "+---------+------+-------------+---------+--------------+------+------------+--------------+------------------+--------------------+---------------------+--------+-------+-------------+--------------+-----------+------------------+\n",
            "|   France|Female|            1|        1|             1|     1|           4|             0|               2.0|0.006107615594765329|             50674.44|       1|    3.0|            1|           0.0|        1.0|     (2,[0],[1.0])|\n",
            "|    Spain|Female|            1|        0|             1|     0|           4|             0|               1.0|0.005402399696186101|            112542.58|       0|    3.0|            1|           2.0|        1.0|         (2,[],[])|\n",
            "|   France|Female|            3|        1|             0|     1|           3|             0|2.6666666666666665|0.004406153623618106|          14241.44625|       0|    3.0|            0|           0.0|        1.0|     (2,[0],[1.0])|\n",
            "|   France|Female|            2|        0|             0|     0|           4|             0|               0.5|0.007449910542454738|             93826.63|       1|    2.0|            1|           0.0|        1.0|     (2,[0],[1.0])|\n",
            "|    Spain|Female|            1|        1|             1|     0|           6|             0|               2.0|0.010748051757559357|             39542.05|       0|    3.0|            1|           2.0|        1.0|         (2,[],[])|\n",
            "|    Spain|  Male|            2|        1|             0|     1|           4|             0|               4.0|0.004306985643581513|          18719.58875|       0|    3.0|            0|           2.0|        0.0|         (2,[],[])|\n",
            "|   France|  Male|            2|        1|             1|     0|           6|             0|               3.5| 0.08168700560480185|    1437.542857142857|       1|    4.0|            0|           0.0|        0.0|     (2,[0],[1.0])|\n",
            "|  Germany|Female|            4|        1|             0|     1|           2|             0|               1.0|0.003150480347705...|             29836.72|       0|    1.0|            1|           1.0|        1.0|     (2,[1],[1.0])|\n",
            "|   France|  Male|            2|        0|             1|     0|           3|             0|               2.0|0.006685303674248237|            18735.125|       0|    3.0|            1|           0.0|        0.0|     (2,[0],[1.0])|\n",
            "|   France|  Male|            1|        1|             1|     0|           4|             0|               2.0|0.009536326782592523|            35862.865|       0|    1.0|            1|           0.0|        0.0|     (2,[0],[1.0])|\n",
            "|   France|  Male|            2|        0|             0|     0|           3|             0|               3.0|0.006585091353176409|   13363.519999999999|       0|    2.0|            0|           0.0|        0.0|     (2,[0],[1.0])|\n",
            "|    Spain|  Male|            2|        1|             0|     0|           2|             0|               1.5|0.006506086332492954|   25463.336666666666|       1|    1.0|            1|           2.0|        0.0|         (2,[],[])|\n",
            "|   France|Female|            2|        1|             0|     0|           2|             0|               5.0|0.018125751590382384|             2626.098|       1|    2.0|            0|           0.0|        1.0|     (2,[0],[1.0])|\n",
            "|   France|Female|            2|        0|             0|     0|           3|             0|               2.5|0.002876487252629...|   38171.558000000005|       1|    1.0|            0|           0.0|        1.0|     (2,[0],[1.0])|\n",
            "|    Spain|Female|            2|        1|             1|     0|           4|             0|               3.5|0.009628265555145323|    9421.664285714285|       1|    2.0|            0|           2.0|        1.0|         (2,[],[])|\n",
            "|  Germany|  Male|            2|        0|             1|     0|           4|             0|               1.5|0.009576033550939368|   21442.420000000002|       0|    3.0|            1|           1.0|        0.0|     (2,[1],[1.0])|\n",
            "|  Germany|  Male|            1|        1|             0|     1|           4|             0|               1.0|  0.1280977387708502|              5097.67|       0|    4.0|            1|           1.0|        0.0|     (2,[1],[1.0])|\n",
            "|    Spain|Female|            2|        1|             1|     0|           3|             0|               4.5| 0.03810803663091638|   1600.7122222222222|       1|    1.0|            0|           2.0|        1.0|         (2,[],[])|\n",
            "|    Spain|  Male|            1|        0|             0|     0|           3|             0|               6.0|0.003699156838011...|   26447.468333333334|       1|    3.0|            0|           2.0|        0.0|         (2,[],[])|\n",
            "|   France|Female|            2|        1|             1|     0|           5|             0|               3.0|0.013266566808036616|    9120.671666666667|       1|    1.0|            0|           0.0|        1.0|     (2,[0],[1.0])|\n",
            "+---------+------+-------------+---------+--------------+------+------------+--------------+------------------+--------------------+---------------------+--------+-------+-------------+--------------+-----------+------------------+\n",
            "only showing top 20 rows\n",
            "\n"
          ]
        }
      ]
    },
    {
      "cell_type": "code",
      "source": [
        "spark_df = spark_df.drop(\"geography\" , \"gender\" , \"geographyIndex_ohe\" )"
      ],
      "metadata": {
        "id": "9pQtbxRjtavE"
      },
      "execution_count": 52,
      "outputs": []
    },
    {
      "cell_type": "code",
      "source": [
        "spark_df.dtypes"
      ],
      "metadata": {
        "colab": {
          "base_uri": "https://localhost:8080/"
        },
        "id": "8PBb0w20t5_H",
        "outputId": "20c0e80f-6022-4d01-f9fa-e30246db265b"
      },
      "execution_count": 53,
      "outputs": [
        {
          "output_type": "execute_result",
          "data": {
            "text/plain": [
              "[('numofproducts', 'int'),\n",
              " ('hascrcard', 'int'),\n",
              " ('isactivemember', 'int'),\n",
              " ('exited', 'int'),\n",
              " ('credit_range', 'int'),\n",
              " ('est_retirement', 'int'),\n",
              " ('tenure_over_nop', 'double'),\n",
              " ('cs_over_salary', 'double'),\n",
              " ('estsalary_over_tenure', 'double'),\n",
              " ('balance0', 'int'),\n",
              " ('age_cat', 'double'),\n",
              " ('segment_label', 'int'),\n",
              " ('geographyIndex', 'double'),\n",
              " ('genderIndex', 'double')]"
            ]
          },
          "metadata": {},
          "execution_count": 53
        }
      ]
    },
    {
      "cell_type": "code",
      "source": [
        "cols2 = [\"numofproducts\" , \"hascrcard\" , \"isactivemember\" , \"est_retirement\" , \"tenure_over_nop\" , \"cs_over_salary\" , \"estsalary_over_tenure\" , \"balance0\" , \"age_cat\"  , \"segment_label\" , \"geographyIndex\" , \"genderIndex\"]\n",
        "vect_assembler = VectorAssembler(inputCols = cols2, outputCol=\"features\")\n",
        "vect_assembler.setHandleInvalid(\"keep\")\n",
        "data_w_features = vect_assembler.transform(spark_df)\n",
        "data_w_features.count()"
      ],
      "metadata": {
        "colab": {
          "base_uri": "https://localhost:8080/"
        },
        "id": "fjPRB0B4uHmd",
        "outputId": "8dd54c60-8bb7-450e-82f0-afbef2c01fd0"
      },
      "execution_count": 54,
      "outputs": [
        {
          "output_type": "execute_result",
          "data": {
            "text/plain": [
              "10000"
            ]
          },
          "metadata": {},
          "execution_count": 54
        }
      ]
    },
    {
      "cell_type": "code",
      "source": [
        "data_w_features.na.drop().show()"
      ],
      "metadata": {
        "colab": {
          "base_uri": "https://localhost:8080/"
        },
        "id": "6DTKO7tVuqSG",
        "outputId": "66a18d6b-d830-46c8-e561-a4ac80ee6b4e"
      },
      "execution_count": 55,
      "outputs": [
        {
          "output_type": "stream",
          "name": "stdout",
          "text": [
            "+-------------+---------+--------------+------+------------+--------------+------------------+--------------------+---------------------+--------+-------+-------------+--------------+-----------+--------------------+\n",
            "|numofproducts|hascrcard|isactivemember|exited|credit_range|est_retirement|   tenure_over_nop|      cs_over_salary|estsalary_over_tenure|balance0|age_cat|segment_label|geographyIndex|genderIndex|            features|\n",
            "+-------------+---------+--------------+------+------------+--------------+------------------+--------------------+---------------------+--------+-------+-------------+--------------+-----------+--------------------+\n",
            "|            1|        1|             1|     1|           4|             0|               2.0|0.006107615594765329|             50674.44|       1|    3.0|            1|           0.0|        1.0|[1.0,1.0,1.0,0.0,...|\n",
            "|            1|        0|             1|     0|           4|             0|               1.0|0.005402399696186101|            112542.58|       0|    3.0|            1|           2.0|        1.0|[1.0,0.0,1.0,0.0,...|\n",
            "|            3|        1|             0|     1|           3|             0|2.6666666666666665|0.004406153623618106|          14241.44625|       0|    3.0|            0|           0.0|        1.0|[3.0,1.0,0.0,0.0,...|\n",
            "|            2|        0|             0|     0|           4|             0|               0.5|0.007449910542454738|             93826.63|       1|    2.0|            1|           0.0|        1.0|[2.0,0.0,0.0,0.0,...|\n",
            "|            1|        1|             1|     0|           6|             0|               2.0|0.010748051757559357|             39542.05|       0|    3.0|            1|           2.0|        1.0|[1.0,1.0,1.0,0.0,...|\n",
            "|            2|        1|             0|     1|           4|             0|               4.0|0.004306985643581513|          18719.58875|       0|    3.0|            0|           2.0|        0.0|[2.0,1.0,0.0,0.0,...|\n",
            "|            2|        1|             1|     0|           6|             0|               3.5| 0.08168700560480185|    1437.542857142857|       1|    4.0|            0|           0.0|        0.0|[2.0,1.0,1.0,0.0,...|\n",
            "|            4|        1|             0|     1|           2|             0|               1.0|0.003150480347705...|             29836.72|       0|    1.0|            1|           1.0|        1.0|[4.0,1.0,0.0,0.0,...|\n",
            "|            2|        0|             1|     0|           3|             0|               2.0|0.006685303674248237|            18735.125|       0|    3.0|            1|           0.0|        0.0|[2.0,0.0,1.0,0.0,...|\n",
            "|            1|        1|             1|     0|           4|             0|               2.0|0.009536326782592523|            35862.865|       0|    1.0|            1|           0.0|        0.0|[1.0,1.0,1.0,0.0,...|\n",
            "|            2|        0|             0|     0|           3|             0|               3.0|0.006585091353176409|   13363.519999999999|       0|    2.0|            0|           0.0|        0.0|(12,[0,4,5,6,8],[...|\n",
            "|            2|        1|             0|     0|           2|             0|               1.5|0.006506086332492954|   25463.336666666666|       1|    1.0|            1|           2.0|        0.0|[2.0,1.0,0.0,0.0,...|\n",
            "|            2|        1|             0|     0|           2|             0|               5.0|0.018125751590382384|             2626.098|       1|    2.0|            0|           0.0|        1.0|[2.0,1.0,0.0,0.0,...|\n",
            "|            2|        0|             0|     0|           3|             0|               2.5|0.002876487252629...|   38171.558000000005|       1|    1.0|            0|           0.0|        1.0|[2.0,0.0,0.0,0.0,...|\n",
            "|            2|        1|             1|     0|           4|             0|               3.5|0.009628265555145323|    9421.664285714285|       1|    2.0|            0|           2.0|        1.0|[2.0,1.0,1.0,0.0,...|\n",
            "|            2|        0|             1|     0|           4|             0|               1.5|0.009576033550939368|   21442.420000000002|       0|    3.0|            1|           1.0|        0.0|[2.0,0.0,1.0,0.0,...|\n",
            "|            1|        1|             0|     1|           4|             0|               1.0|  0.1280977387708502|              5097.67|       0|    4.0|            1|           1.0|        0.0|[1.0,1.0,0.0,0.0,...|\n",
            "|            2|        1|             1|     0|           3|             0|               4.5| 0.03810803663091638|   1600.7122222222222|       1|    1.0|            0|           2.0|        1.0|[2.0,1.0,1.0,0.0,...|\n",
            "|            1|        0|             0|     0|           3|             0|               6.0|0.003699156838011...|   26447.468333333334|       1|    3.0|            0|           2.0|        0.0|[1.0,0.0,0.0,0.0,...|\n",
            "|            2|        1|             1|     0|           5|             0|               3.0|0.013266566808036616|    9120.671666666667|       1|    1.0|            0|           0.0|        1.0|[2.0,1.0,1.0,0.0,...|\n",
            "+-------------+---------+--------------+------+------------+--------------+------------------+--------------------+---------------------+--------+-------+-------------+--------------+-----------+--------------------+\n",
            "only showing top 20 rows\n",
            "\n"
          ]
        }
      ]
    },
    {
      "cell_type": "code",
      "source": [
        "finalized_data = data_w_features.select(\"features\",\"exited\")\n",
        "finalized_data.show()\n",
        "finalized_data = finalized_data.withColumnRenamed(\"exited\", \"label\")"
      ],
      "metadata": {
        "colab": {
          "base_uri": "https://localhost:8080/"
        },
        "id": "gSB7Sn2buVQQ",
        "outputId": "d0606735-10b2-42d7-c978-dc4b2dc0b029"
      },
      "execution_count": 64,
      "outputs": [
        {
          "output_type": "stream",
          "name": "stdout",
          "text": [
            "+--------------------+------+\n",
            "|            features|exited|\n",
            "+--------------------+------+\n",
            "|[1.0,1.0,1.0,0.0,...|     1|\n",
            "|[1.0,0.0,1.0,0.0,...|     0|\n",
            "|[3.0,1.0,0.0,0.0,...|     1|\n",
            "|[2.0,0.0,0.0,0.0,...|     0|\n",
            "|[1.0,1.0,1.0,0.0,...|     0|\n",
            "|[2.0,1.0,0.0,0.0,...|     1|\n",
            "|[2.0,1.0,1.0,0.0,...|     0|\n",
            "|[4.0,1.0,0.0,0.0,...|     1|\n",
            "|[2.0,0.0,1.0,0.0,...|     0|\n",
            "|[1.0,1.0,1.0,0.0,...|     0|\n",
            "|(12,[0,4,5,6,8],[...|     0|\n",
            "|[2.0,1.0,0.0,0.0,...|     0|\n",
            "|[2.0,1.0,0.0,0.0,...|     0|\n",
            "|[2.0,0.0,0.0,0.0,...|     0|\n",
            "|[2.0,1.0,1.0,0.0,...|     0|\n",
            "|[2.0,0.0,1.0,0.0,...|     0|\n",
            "|[1.0,1.0,0.0,0.0,...|     1|\n",
            "|[2.0,1.0,1.0,0.0,...|     0|\n",
            "|[1.0,0.0,0.0,0.0,...|     0|\n",
            "|[2.0,1.0,1.0,0.0,...|     0|\n",
            "+--------------------+------+\n",
            "only showing top 20 rows\n",
            "\n"
          ]
        }
      ]
    },
    {
      "cell_type": "code",
      "source": [
        "train_dataset, test_dataset = finalized_data.randomSplit([0.7, 0.3])"
      ],
      "metadata": {
        "id": "bvrVsIFru7TU"
      },
      "execution_count": 65,
      "outputs": []
    },
    {
      "cell_type": "code",
      "source": [
        "train_dataset = train_dataset.filter(train_dataset['features'].isNotNull())\n",
        "train_dataset = train_dataset.filter(train_dataset['label'].isNotNull())\n",
        "train_dataset.count()"
      ],
      "metadata": {
        "colab": {
          "base_uri": "https://localhost:8080/"
        },
        "id": "1rPfkcquzm2G",
        "outputId": "5e59c880-4667-47fc-9b13-32b6a3b2166c"
      },
      "execution_count": 67,
      "outputs": [
        {
          "output_type": "execute_result",
          "data": {
            "text/plain": [
              "7097"
            ]
          },
          "metadata": {},
          "execution_count": 67
        }
      ]
    },
    {
      "cell_type": "code",
      "source": [
        "train_dataset.show()"
      ],
      "metadata": {
        "colab": {
          "base_uri": "https://localhost:8080/"
        },
        "id": "alWrSztv2Dj1",
        "outputId": "3474c9f3-3261-4dcf-bfad-d176c554acbf"
      },
      "execution_count": 68,
      "outputs": [
        {
          "output_type": "stream",
          "name": "stdout",
          "text": [
            "+--------------------+-----+\n",
            "|            features|label|\n",
            "+--------------------+-----+\n",
            "|(12,[0,1,4,5,6,8]...|    0|\n",
            "|(12,[0,1,4,5,6,8]...|    0|\n",
            "|(12,[0,1,4,5,6,8]...|    0|\n",
            "|(12,[0,1,4,5,6,8]...|    0|\n",
            "|(12,[0,1,4,5,6,8]...|    0|\n",
            "|(12,[0,1,4,5,6,8]...|    1|\n",
            "|(12,[0,1,4,5,6,8]...|    0|\n",
            "|(12,[0,1,4,5,6,8]...|    1|\n",
            "|(12,[0,1,4,5,6,8]...|    1|\n",
            "|(12,[0,1,4,5,6,8]...|    0|\n",
            "|(12,[0,1,4,5,6,8]...|    0|\n",
            "|(12,[0,1,4,5,6,8]...|    1|\n",
            "|(12,[0,1,4,5,6,8]...|    0|\n",
            "|(12,[0,1,4,5,6,8]...|    1|\n",
            "|(12,[0,1,4,5,6,8]...|    0|\n",
            "|(12,[0,1,4,5,6,8]...|    0|\n",
            "|(12,[0,1,4,5,6,8]...|    0|\n",
            "|(12,[0,1,4,5,6,8]...|    0|\n",
            "|(12,[0,1,4,5,6,8]...|    0|\n",
            "|(12,[0,1,4,5,6,8]...|    0|\n",
            "+--------------------+-----+\n",
            "only showing top 20 rows\n",
            "\n"
          ]
        }
      ]
    },
    {
      "cell_type": "code",
      "source": [
        "gbm = GBTClassifier(maxIter=100, featuresCol=\"features\", labelCol=\"label\")\n",
        "gbm_model = gbm.fit(train_dataset)\n",
        "y_pred_gbm = gbm_model.transform(test_dataset)\n",
        "y_pred_gbm.show(5)\n",
        "\n",
        "y_pred_gbm.filter(y_pred_gbm.label == y_pred_gbm.prediction).count() / y_pred_gbm.count()"
      ],
      "metadata": {
        "colab": {
          "base_uri": "https://localhost:8080/"
        },
        "id": "A8guzXmQzqlh",
        "outputId": "e4883cd5-9413-49e4-c1f1-67880f7bf101"
      },
      "execution_count": 70,
      "outputs": [
        {
          "output_type": "stream",
          "name": "stdout",
          "text": [
            "+--------------------+-----+--------------------+--------------------+----------+\n",
            "|            features|label|       rawPrediction|         probability|prediction|\n",
            "+--------------------+-----+--------------------+--------------------+----------+\n",
            "|(12,[0,1,4,5,6,8]...|    1|[0.42298423391927...|[0.69972075336022...|       0.0|\n",
            "|(12,[0,1,4,5,6,8]...|    0|[0.37780177819027...|[0.68039845818196...|       0.0|\n",
            "|(12,[0,1,4,5,6,8]...|    1|[0.46433547846544...|[0.71680557369453...|       0.0|\n",
            "|(12,[0,1,4,5,6,8]...|    0|[0.52041019167012...|[0.73900826858298...|       0.0|\n",
            "|(12,[0,1,4,5,6,8]...|    0|[1.15067648142466...|[0.90898902881313...|       0.0|\n",
            "+--------------------+-----+--------------------+--------------------+----------+\n",
            "only showing top 5 rows\n",
            "\n"
          ]
        },
        {
          "output_type": "execute_result",
          "data": {
            "text/plain": [
              "0.8460213572166724"
            ]
          },
          "metadata": {},
          "execution_count": 70
        }
      ]
    },
    {
      "cell_type": "code",
      "source": [
        "from pyspark.ml.classification import LogisticRegression\n",
        "\n",
        "lr = LogisticRegression(featuresCol=\"features\", labelCol=\"label\", regParam=1.0)\n",
        "lr_model = lr.fit(train_dataset)\n",
        "y_pred_lr = lr_model.transform(test_dataset)\n",
        "y_pred_lr.show(5)\n",
        "\n",
        "y_pred_lr.filter(y_pred_lr.label == y_pred_lr.prediction).count() / y_pred_lr.count()"
      ],
      "metadata": {
        "colab": {
          "base_uri": "https://localhost:8080/"
        },
        "id": "8qcge25ez9aR",
        "outputId": "48de7c33-54e2-4794-d92b-e212adee6bf9"
      },
      "execution_count": 72,
      "outputs": [
        {
          "output_type": "stream",
          "name": "stdout",
          "text": [
            "+--------------------+-----+--------------------+--------------------+----------+\n",
            "|            features|label|       rawPrediction|         probability|prediction|\n",
            "+--------------------+-----+--------------------+--------------------+----------+\n",
            "|(12,[0,1,4,5,6,8]...|    1|[1.27599727462622...|[0.78176765373305...|       0.0|\n",
            "|(12,[0,1,4,5,6,8]...|    0|[1.27734696469591...|[0.78199783272056...|       0.0|\n",
            "|(12,[0,1,4,5,6,8]...|    1|[1.27968453754258...|[0.78239607294897...|       0.0|\n",
            "|(12,[0,1,4,5,6,8]...|    0|[1.27923062742957...|[0.78231878373073...|       0.0|\n",
            "|(12,[0,1,4,5,6,8]...|    0|[1.38214708905591...|[0.79933561080121...|       0.0|\n",
            "+--------------------+-----+--------------------+--------------------+----------+\n",
            "only showing top 5 rows\n",
            "\n"
          ]
        },
        {
          "output_type": "execute_result",
          "data": {
            "text/plain": [
              "0.7905614881157423"
            ]
          },
          "metadata": {},
          "execution_count": 72
        }
      ]
    },
    {
      "cell_type": "code",
      "source": [
        "from pyspark.ml.evaluation import BinaryClassificationEvaluator, MulticlassClassificationEvaluator\n",
        "\n",
        "bcEvaluator = BinaryClassificationEvaluator(metricName=\"areaUnderROC\")\n",
        "print(f\"Area under ROC curve: {bcEvaluator.evaluate(y_pred_lr)}\")\n",
        "\n",
        "mcEvaluator = MulticlassClassificationEvaluator(metricName=\"accuracy\")\n",
        "print(f\"Accuracy: {mcEvaluator.evaluate(y_pred_lr)}\")"
      ],
      "metadata": {
        "colab": {
          "base_uri": "https://localhost:8080/"
        },
        "id": "RfE6V8tmDKxm",
        "outputId": "5e0d352b-bbb4-4f5a-ea48-5a296130b5f6"
      },
      "execution_count": 73,
      "outputs": [
        {
          "output_type": "stream",
          "name": "stdout",
          "text": [
            "Area under ROC curve: 0.7583376332989382\n",
            "Accuracy: 0.7905614881157423\n"
          ]
        }
      ]
    },
    {
      "cell_type": "code",
      "source": [
        "from pyspark.ml.tuning import ParamGridBuilder, CrossValidator\n",
        "\n",
        "paramGrid = (ParamGridBuilder()\n",
        "             .addGrid(lr.regParam, [0.01, 0.5, 2.0])\n",
        "             .addGrid(lr.elasticNetParam, [0.0, 0.5, 1.0])\n",
        "             .build())"
      ],
      "metadata": {
        "id": "9ZzMrzTRA22Z"
      },
      "execution_count": 74,
      "outputs": []
    },
    {
      "cell_type": "code",
      "source": [
        "cv = CrossValidator(estimator=lr, estimatorParamMaps=paramGrid, evaluator=bcEvaluator, numFolds=3, parallelism = 4)\n",
        "\n",
        "# Run cross validations. This step takes a few minutes and returns the best model found from the cross validation.\n",
        "cvModel = cv.fit(train_dataset)"
      ],
      "metadata": {
        "id": "G3a3c-BFCFYg"
      },
      "execution_count": 76,
      "outputs": []
    },
    {
      "cell_type": "code",
      "source": [
        "cvPredDF = cvModel.transform(test_dataset)"
      ],
      "metadata": {
        "id": "EmEs2XxOFMK8"
      },
      "execution_count": 77,
      "outputs": []
    },
    {
      "cell_type": "code",
      "source": [
        "print(f\"Area under ROC curve: {bcEvaluator.evaluate(cvPredDF)}\")\n",
        "print(f\"Accuracy: {mcEvaluator.evaluate(cvPredDF)}\")"
      ],
      "metadata": {
        "colab": {
          "base_uri": "https://localhost:8080/"
        },
        "id": "XkCS_J4rHO7c",
        "outputId": "ac84bdb2-c9ec-4571-f2d5-1eb39311bdc6"
      },
      "execution_count": 78,
      "outputs": [
        {
          "output_type": "stream",
          "name": "stdout",
          "text": [
            "Area under ROC curve: 0.7688467492260075\n",
            "Accuracy: 0.8126076472614536\n"
          ]
        }
      ]
    },
    {
      "cell_type": "code",
      "source": [
        "from pyspark.ml.classification import LinearSVC\n",
        "lsvc = LinearSVC(featuresCol=\"features\" , labelCol=\"label\", maxIter=50)\n",
        "lsvc = lsvc.fit(train_dataset)\n",
        "\n",
        "pred = lsvc.transform(test_dataset)\n",
        "pred.show(3)\n",
        "pred.filter(pred.label == pred.prediction).count() / pred.count()"
      ],
      "metadata": {
        "colab": {
          "base_uri": "https://localhost:8080/"
        },
        "id": "9mp4digLHRxi",
        "outputId": "9460fada-85d2-4010-ba73-b1f2e04bd9a3"
      },
      "execution_count": 80,
      "outputs": [
        {
          "output_type": "stream",
          "name": "stdout",
          "text": [
            "+--------------------+-----+--------------------+----------+\n",
            "|            features|label|       rawPrediction|prediction|\n",
            "+--------------------+-----+--------------------+----------+\n",
            "|(12,[0,1,4,5,6,8]...|    1|[0.99924376446141...|       0.0|\n",
            "|(12,[0,1,4,5,6,8]...|    0|[0.99930919489525...|       0.0|\n",
            "|(12,[0,1,4,5,6,8]...|    1|[0.99948000135878...|       0.0|\n",
            "+--------------------+-----+--------------------+----------+\n",
            "only showing top 3 rows\n",
            "\n"
          ]
        },
        {
          "output_type": "execute_result",
          "data": {
            "text/plain": [
              "0.7905614881157423"
            ]
          },
          "metadata": {},
          "execution_count": 80
        }
      ]
    },
    {
      "cell_type": "code",
      "source": [],
      "metadata": {
        "id": "Q6sbvocaInMd"
      },
      "execution_count": 92,
      "outputs": []
    },
    {
      "cell_type": "code",
      "source": [],
      "metadata": {
        "id": "9bXWtdBlJ4I2"
      },
      "execution_count": 92,
      "outputs": []
    },
    {
      "cell_type": "code",
      "source": [],
      "metadata": {
        "id": "mnytrzEjJ-sm"
      },
      "execution_count": 92,
      "outputs": []
    },
    {
      "cell_type": "code",
      "source": [],
      "metadata": {
        "id": "lBh9pFAUKLKU"
      },
      "execution_count": 92,
      "outputs": []
    },
    {
      "cell_type": "code",
      "source": [],
      "metadata": {
        "id": "evA2OPDWLQ62"
      },
      "execution_count": null,
      "outputs": []
    }
  ]
}